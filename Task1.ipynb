{
 "cells": [
  {
   "cell_type": "markdown",
   "id": "533dbcd2-1909-45d1-9663-48429d51db68",
   "metadata": {},
   "source": [
    "# Top 20 Python Operator Concepts with Easy Case Study Problems\n"
   ]
  },
  {
   "cell_type": "markdown",
   "id": "f5fb24a0-b102-4ea9-a3a5-2878cebd0bd4",
   "metadata": {},
   "source": [
    "## 🔰 Prior Basic Concepts\n",
    "#### Before working with operators, students should understand:\n",
    "##### - Variables and Data Types\n",
    "##### - Input/Output (input(), print())\n",
    "##### - Basic syntax and indentation in Python"
   ]
  },
  {
   "cell_type": "markdown",
   "id": "373a8aad-08bd-4457-b8a6-722803023563",
   "metadata": {},
   "source": [
    "#### 1. Assignment Operator (=)\n",
    "Concept: Assigns a value to a variable.\n",
    "Case: A store owner wants to assign the number of apples in stock."
   ]
  },
  {
   "cell_type": "code",
   "execution_count": 1,
   "id": "b70b9f98-301c-4481-833f-633048dc7074",
   "metadata": {},
   "outputs": [
    {
     "name": "stdout",
     "output_type": "stream",
     "text": [
      "applesin the stock 45\n"
     ]
    }
   ],
   "source": [
    "apples=45\n",
    "print('applesin the stock',apples)"
   ]
  },
  {
   "cell_type": "markdown",
   "id": "e27977b3-a91c-4b40-b342-b8cff900be85",
   "metadata": {},
   "source": [
    "#### 2. Addition Operator (+)\n",
    "Concept: Adds two numbers.\n",
    "Case: A student bought 2 pens and 3 pencils. Find the total items"
   ]
  },
  {
   "cell_type": "code",
   "execution_count": 2,
   "id": "b8057cc6-7fa2-46a0-8d2a-5d0257c32ba5",
   "metadata": {},
   "outputs": [
    {
     "name": "stdout",
     "output_type": "stream",
     "text": [
      "total items:  5\n"
     ]
    }
   ],
   "source": [
    "pens=2\n",
    "pencils=3\n",
    "print('total items: ',pens+pencils)"
   ]
  },
  {
   "cell_type": "markdown",
   "id": "af61ebcb-2df1-456c-886f-5ebbf27c3e3f",
   "metadata": {},
   "source": [
    "#### 3. Subtraction Operator (-)\n",
    "Concept: Subtracts one number from another.\n",
    "Case: A student had 10 chocolates and gave 3 to a friend."
   ]
  },
  {
   "cell_type": "code",
   "execution_count": 3,
   "id": "98978c73-d5a1-4317-ba67-c804a267f7c8",
   "metadata": {},
   "outputs": [
    {
     "name": "stdout",
     "output_type": "stream",
     "text": [
      "reamaing chocolets 7\n"
     ]
    }
   ],
   "source": [
    "chocolates=10\n",
    "donate=3\n",
    "print(\"reamaing chocolets\",chocolates-donate)"
   ]
  },
  {
   "cell_type": "markdown",
   "id": "b984c8dc-cdbf-429e-a9ef-4d535d081043",
   "metadata": {},
   "source": [
    "#### 4. Multiplication Operator (*)\n",
    "Concept: Multiplies numbers.\n",
    "Case: One pack has 5 pens. Calculate pens in 4 packs"
   ]
  },
  {
   "cell_type": "code",
   "execution_count": 4,
   "id": "9d272f90-e11a-4713-b59f-a769d0a8e72a",
   "metadata": {},
   "outputs": [
    {
     "name": "stdout",
     "output_type": "stream",
     "text": [
      "pens in 4 packs 20\n"
     ]
    }
   ],
   "source": [
    "singlepack=5\n",
    "no_of_packs=4\n",
    "print('pens in 4 packs',singlepack*no_of_packs)"
   ]
  },
  {
   "cell_type": "markdown",
   "id": "154abbf4-4929-4291-ae82-7287f9a57f1e",
   "metadata": {},
   "source": [
    "#### 5. Division Operator (/)\n",
    "Concept: Divides numbers and gives float.\n",
    "Case: Split 20 rupees equally among 4 friends."
   ]
  },
  {
   "cell_type": "code",
   "execution_count": 5,
   "id": "42544fdf-737d-4001-b05b-d02e5d5f8cb7",
   "metadata": {},
   "outputs": [
    {
     "name": "stdout",
     "output_type": "stream",
     "text": [
      "deviding 20 rupees in 4 friends, each one have 5.0\n"
     ]
    }
   ],
   "source": [
    "money=20\n",
    "donate=4\n",
    "print('deviding 20 rupees in 4 friends, each one have',money/donate)"
   ]
  },
  {
   "cell_type": "markdown",
   "id": "c5b6359b-542f-4905-a995-2fdfdf4e9502",
   "metadata": {},
   "source": [
    "#### 6. Floor Division Operator (//)\n",
    "Concept: Returns the integer part of division.\n",
    "Case: Distribute 19 candies among 4 kids\n",
    "\n",
    "#### 7. Modulus Operator (%)\n",
    "Concept: Gives remainder of division.\n",
    "Case: Find leftover candies when 19 are divided among 4 kids."
   ]
  },
  {
   "cell_type": "code",
   "execution_count": 6,
   "id": "cda27d51-df67-4488-87c8-f4eeb6781b86",
   "metadata": {},
   "outputs": [
    {
     "name": "stdout",
     "output_type": "stream",
     "text": [
      "candies per kid is:  4 candy will remains 3\n"
     ]
    }
   ],
   "source": [
    "candy=19\n",
    "kids=4\n",
    "print('candies per kid is: ',candy//kids,'candy will remains',candy%kids)"
   ]
  },
  {
   "cell_type": "markdown",
   "id": "81ed58f2-ec96-479f-9d3f-afe07cb3394d",
   "metadata": {},
   "source": [
    "#### 8. Exponentiation Operator (**)\n",
    "Concept: Raises one number to the power of another.\n",
    "Case: A student wants to find 2 raised to the power 3."
   ]
  },
  {
   "cell_type": "code",
   "execution_count": 7,
   "id": "84138d4c-dbe5-4311-969b-acdf9454e0e1",
   "metadata": {},
   "outputs": [
    {
     "name": "stdout",
     "output_type": "stream",
     "text": [
      "8\n"
     ]
    }
   ],
   "source": [
    "print(2**3)"
   ]
  },
  {
   "cell_type": "markdown",
   "id": "69d58787-e779-4ab6-9129-032b1db5cbb9",
   "metadata": {},
   "source": [
    "#### 9. Equal To (==)\n",
    "Concept: Compares if two values are equal.\n",
    "Case: Check if two entered PINs match."
   ]
  },
  {
   "cell_type": "code",
   "execution_count": 8,
   "id": "c268a923-3688-467a-93cd-a758fe035ed2",
   "metadata": {},
   "outputs": [
    {
     "name": "stdin",
     "output_type": "stream",
     "text": [
      " 1234\n",
      " 1234\n"
     ]
    },
    {
     "name": "stdout",
     "output_type": "stream",
     "text": [
      "pin match\n"
     ]
    }
   ],
   "source": [
    "pin=input()\n",
    "re_enter=input()\n",
    "if pin==re_enter:\n",
    "    print('pin match')"
   ]
  },
  {
   "cell_type": "markdown",
   "id": "1964a33a-7535-48bf-bc18-13c5fa2e3393",
   "metadata": {},
   "source": [
    "#### 10. Not Equal To (!=)\n",
    "Concept: Checks inequality.\n",
    "Case: Verify if user input is not a banned word."
   ]
  },
  {
   "cell_type": "code",
   "execution_count": 9,
   "id": "f2fe2464-4eef-4f20-bcfa-48b64fd6f814",
   "metadata": {},
   "outputs": [
    {
     "name": "stdin",
     "output_type": "stream",
     "text": [
      " 1234\n",
      " 2345\n"
     ]
    },
    {
     "name": "stdout",
     "output_type": "stream",
     "text": [
      "pin not match\n"
     ]
    }
   ],
   "source": [
    "pin=input()\n",
    "re_enter=input()\n",
    "if pin!=re_enter:\n",
    "    print('pin not match')"
   ]
  },
  {
   "cell_type": "markdown",
   "id": "586caaf4-e18e-4ed3-b02f-db83890f9f1b",
   "metadata": {},
   "source": [
    "#### 11. Greater Than (>)\n",
    "Concept: Checks if left value is greater.\n",
    "Case: Check if a student scored more than 40 marks"
   ]
  },
  {
   "cell_type": "code",
   "execution_count": 10,
   "id": "a2a12194-8420-4a52-83b3-45dd52e4ac32",
   "metadata": {},
   "outputs": [
    {
     "name": "stdout",
     "output_type": "stream",
     "text": [
      "student pass- True\n"
     ]
    }
   ],
   "source": [
    "marks=54\n",
    "print('student pass-',marks>40)"
   ]
  },
  {
   "cell_type": "markdown",
   "id": "8fc0d212-2f18-4a99-9538-3802b1b167a2",
   "metadata": {},
   "source": [
    "#### 12. Less Than (<)\n",
    "Concept: Checks if left value is smaller.\n",
    "Case: Check if a product price is below ₹100."
   ]
  },
  {
   "cell_type": "code",
   "execution_count": 11,
   "id": "e074d3ad-5e94-49a7-ba60-f76bae5bd6c5",
   "metadata": {},
   "outputs": [
    {
     "name": "stdout",
     "output_type": "stream",
     "text": [
      "elligible for the discount True\n"
     ]
    }
   ],
   "source": [
    "price=99\n",
    "print(\"elligible for the discount\",price<100)"
   ]
  },
  {
   "cell_type": "markdown",
   "id": "5c8f4a55-dd17-4ad5-bdc4-f95c7d64d7cd",
   "metadata": {},
   "source": [
    "#### 13. Greater Than or Equal To (>=)\n",
    "Concept: Checks if left value is greater or equal.\n",
    "Case: Free delivery if order is ₹500 or more"
   ]
  },
  {
   "cell_type": "code",
   "execution_count": 13,
   "id": "49125e3c-ce15-4be1-9e53-5c5428569842",
   "metadata": {},
   "outputs": [
    {
     "name": "stdout",
     "output_type": "stream",
     "text": [
      "elligible for the discount True\n"
     ]
    }
   ],
   "source": [
    "price=555\n",
    "print(\"elligible for the discount\",price>=500)"
   ]
  },
  {
   "cell_type": "markdown",
   "id": "dbe0a4bb-c359-4b0f-bd6a-30e539c23fe4",
   "metadata": {},
   "source": [
    "#### 14. Less Than or Equal To (<=)\n",
    "Concept: Checks if left value is smaller or equal.\n",
    "Case: Student passes if score is less than or equal to 100."
   ]
  },
  {
   "cell_type": "code",
   "execution_count": 14,
   "id": "711990f2-6cd4-45d7-86e8-6c348382cb9b",
   "metadata": {},
   "outputs": [
    {
     "name": "stdout",
     "output_type": "stream",
     "text": [
      "student passe True\n"
     ]
    }
   ],
   "source": [
    "score=98\n",
    "print(\"student passe\",score<=100)"
   ]
  },
  {
   "cell_type": "markdown",
   "id": "f6ade294-84aa-451a-aef2-3cb13c3c5992",
   "metadata": {},
   "source": [
    "#### 15. Logical AND (and)\n",
    "Concept: True only if both conditions are true.\n",
    "Case: A student gets scholarship if marks > 80 and income < 2 lakh"
   ]
  },
  {
   "cell_type": "code",
   "execution_count": 15,
   "id": "a30312f1-7a44-4930-855d-bb32aded2cef",
   "metadata": {},
   "outputs": [
    {
     "name": "stdout",
     "output_type": "stream",
     "text": [
      "elligible for scolarship True\n"
     ]
    }
   ],
   "source": [
    "marks=94\n",
    "income=1.5\n",
    "print('elligible for scolarship',marks>80 and income<2.0)"
   ]
  },
  {
   "cell_type": "markdown",
   "id": "b3041a47-c75d-4c76-8901-6b4a33380406",
   "metadata": {},
   "source": [
    "#### 16. Logical OR (or)\n",
    "Concept: True if at least one condition is true.\n",
    "Case: Entry allowed if passcode is 1234 or 5678.\n"
   ]
  },
  {
   "cell_type": "code",
   "execution_count": 17,
   "id": "20c4c59c-0a01-436e-afef-5b14da7ab31c",
   "metadata": {},
   "outputs": [
    {
     "name": "stdout",
     "output_type": "stream",
     "text": [
      "user allowed True\n"
     ]
    }
   ],
   "source": [
    "passcode1=1234\n",
    "passcode2=5678\n",
    "print('user allowed',passcode1==1234 or passcode2==5678)"
   ]
  },
  {
   "cell_type": "markdown",
   "id": "f3f21948-915e-4726-bac4-d8a2e79837e9",
   "metadata": {},
   "source": [
    "#### 17. Logical NOT (not)\n",
    "Concept: Reverses condition.\n",
    "Case: Deny access if user is not admin."
   ]
  },
  {
   "cell_type": "code",
   "execution_count": 18,
   "id": "4231292a-4e09-47fe-bf0b-2733aebb82e6",
   "metadata": {},
   "outputs": [
    {
     "name": "stdin",
     "output_type": "stream",
     "text": [
      "enter user nmae admin\n"
     ]
    },
    {
     "name": "stdout",
     "output_type": "stream",
     "text": [
      " not allowed False\n"
     ]
    }
   ],
   "source": [
    "usr = input(\"enter user nmae\")\n",
    "print(\" not allowed\", not usr==\"admin\")"
   ]
  },
  {
   "cell_type": "markdown",
   "id": "c605f39c-f14d-4c9b-bfb3-5c08995ecee8",
   "metadata": {},
   "source": [
    "#### 18. Compound Assignment (+=, -=, etc.)\n",
    "Concept: Update variable using itself and an operator.\n",
    "Case: Add 10 bonus points to a score."
   ]
  },
  {
   "cell_type": "code",
   "execution_count": 19,
   "id": "640ca995-e1f3-4b07-9341-0a800c0b82eb",
   "metadata": {},
   "outputs": [
    {
     "name": "stdout",
     "output_type": "stream",
     "text": [
      "extra points added 90\n"
     ]
    }
   ],
   "source": [
    "score=80\n",
    "score+=10\n",
    "print('extra points added',score)"
   ]
  },
  {
   "cell_type": "markdown",
   "id": "d94c0e72-ed8c-492c-8a43-151b897e0c03",
   "metadata": {},
   "source": [
    "#### 19. Identity Operator (is, is not)\n",
    "Concept: Checks object identity.\n",
    "Case: Check if two empty lists are the same object."
   ]
  },
  {
   "cell_type": "code",
   "execution_count": 20,
   "id": "f017f693-db03-49e6-a0d4-6c593989cef1",
   "metadata": {},
   "outputs": [
    {
     "name": "stdout",
     "output_type": "stream",
     "text": [
      "False\n"
     ]
    }
   ],
   "source": [
    "list1=[]\n",
    "list2=[]\n",
    "print(list1 is list2)"
   ]
  },
  {
   "cell_type": "markdown",
   "id": "0ca77b9b-2e8d-4909-baf5-aff65cc8efbc",
   "metadata": {},
   "source": [
    "#### 20. Membership Operator (in, not in)\n",
    "Concept: Checks if value is in a collection.\n",
    "Case: Check if 'apple' is in the shopping list."
   ]
  },
  {
   "cell_type": "code",
   "execution_count": 21,
   "id": "8b90c789-a037-498e-a47b-1578e89b3bc1",
   "metadata": {},
   "outputs": [
    {
     "name": "stdout",
     "output_type": "stream",
     "text": [
      "True\n"
     ]
    }
   ],
   "source": [
    "list=['apple','banana','cherry','carrot']\n",
    "print('apple' in list)"
   ]
  }
 ],
 "metadata": {
  "kernelspec": {
   "display_name": "Python 3 (ipykernel)",
   "language": "python",
   "name": "python3"
  },
  "language_info": {
   "codemirror_mode": {
    "name": "ipython",
    "version": 3
   },
   "file_extension": ".py",
   "mimetype": "text/x-python",
   "name": "python",
   "nbconvert_exporter": "python",
   "pygments_lexer": "ipython3",
   "version": "3.13.3"
  }
 },
 "nbformat": 4,
 "nbformat_minor": 5
}
