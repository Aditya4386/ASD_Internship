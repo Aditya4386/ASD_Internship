{
 "cells": [
  {
   "cell_type": "code",
   "execution_count": 63,
   "id": "a758cc06-1e71-4984-b7c3-79436de15424",
   "metadata": {},
   "outputs": [],
   "source": [
    "import numpy as np\n",
    "import pandas as pd\n",
    "import matplotlib.pyplot as plt"
   ]
  },
  {
   "cell_type": "markdown",
   "id": "2b047240-0a5f-419a-ada8-0955631cffb4",
   "metadata": {},
   "source": [
    "### Q1. Create a Pandas Series using a list of 5 fruits. Print the 3rd fruit using index"
   ]
  },
  {
   "cell_type": "code",
   "execution_count": 64,
   "id": "904908f5-ac41-405a-9611-6dabe8c2ac9a",
   "metadata": {},
   "outputs": [
    {
     "data": {
      "text/plain": [
       "'cherry'"
      ]
     },
     "execution_count": 64,
     "metadata": {},
     "output_type": "execute_result"
    }
   ],
   "source": [
    "fruits=['apple','banana','cherry','orange','watermelon']\n",
    "series=pd.Series(fruits)\n",
    "series.iloc[2]"
   ]
  },
  {
   "cell_type": "markdown",
   "id": "f2ff9a4a-7742-481b-8653-937544a26343",
   "metadata": {},
   "source": [
    "### Q2. You are given a list of student names and their scores. Convert it into a Series and display the score of the student named \"Anu\".\n"
   ]
  },
  {
   "cell_type": "code",
   "execution_count": 65,
   "id": "04b16298-269f-4909-afe3-cc0f7fca83c8",
   "metadata": {},
   "outputs": [
    {
     "name": "stdout",
     "output_type": "stream",
     "text": [
      "98\n"
     ]
    }
   ],
   "source": [
    "dist={\n",
    "    'aditya': 94,\n",
    "    'Anu':98,\n",
    "    'Shree':100\n",
    "}\n",
    "series=pd.Series(dist)\n",
    "print(series.loc['Anu'])"
   ]
  },
  {
   "cell_type": "markdown",
   "id": "2aa069d6-6986-4811-ad8d-2459e6d54316",
   "metadata": {},
   "source": [
    "### Q3. Create a DataFrame with columns Name, Age, Marks. Display only the Marks column."
   ]
  },
  {
   "cell_type": "code",
   "execution_count": 66,
   "id": "f35a9dab-929b-421b-94e4-f22f5b31066b",
   "metadata": {},
   "outputs": [
    {
     "data": {
      "text/plain": [
       "0     94\n",
       "1     98\n",
       "2    100\n",
       "Name: Marks, dtype: int64"
      ]
     },
     "execution_count": 66,
     "metadata": {},
     "output_type": "execute_result"
    }
   ],
   "source": [
    "dist={\n",
    "    'Name':['Aditya','Anu','Shree'],\n",
    "    'Age':[21,87,21],\n",
    "    'Marks':[94,98,100]\n",
    "}\n",
    "df=pd.DataFrame(dist)\n",
    "df['Marks']"
   ]
  },
  {
   "cell_type": "markdown",
   "id": "a9f228bc-b205-440d-a874-143211c9eb75",
   "metadata": {},
   "source": [
    "### Q4. From a DataFrame of employees with columns Name, Salary, and Department, use .loc to display the salary of the employee named \"Raj\"."
   ]
  },
  {
   "cell_type": "code",
   "execution_count": 67,
   "id": "3a8b4618-7eeb-4ef4-bf0e-e6199d0b120c",
   "metadata": {},
   "outputs": [
    {
     "name": "stdout",
     "output_type": "stream",
     "text": [
      "87\n"
     ]
    }
   ],
   "source": [
    "dist={\n",
    "    'Name':['Aditya','Raj','Shree'],\n",
    "    'salary':[21,87,21],\n",
    "    'dept':[94,98,100]\n",
    "}\n",
    "df=pd.DataFrame(dist, index=['Aditya','Raj','Shree'])\n",
    "print(df.loc['Raj','salary'])"
   ]
  },
  {
   "cell_type": "markdown",
   "id": "a256b910-f1c6-47bd-94bd-ed69c7554466",
   "metadata": {},
   "source": [
    "### Q5. Use .iloc to print the first 3 rows from a DataFrame containing student information"
   ]
  },
  {
   "cell_type": "code",
   "execution_count": 68,
   "id": "f2cd5966-2a81-4409-bed7-c0d0abe88dff",
   "metadata": {},
   "outputs": [
    {
     "data": {
      "text/html": [
       "<div>\n",
       "<style scoped>\n",
       "    .dataframe tbody tr th:only-of-type {\n",
       "        vertical-align: middle;\n",
       "    }\n",
       "\n",
       "    .dataframe tbody tr th {\n",
       "        vertical-align: top;\n",
       "    }\n",
       "\n",
       "    .dataframe thead th {\n",
       "        text-align: right;\n",
       "    }\n",
       "</style>\n",
       "<table border=\"1\" class=\"dataframe\">\n",
       "  <thead>\n",
       "    <tr style=\"text-align: right;\">\n",
       "      <th></th>\n",
       "      <th>Name</th>\n",
       "      <th>Age</th>\n",
       "      <th>Marks</th>\n",
       "    </tr>\n",
       "  </thead>\n",
       "  <tbody>\n",
       "    <tr>\n",
       "      <th>0</th>\n",
       "      <td>Aditya</td>\n",
       "      <td>21</td>\n",
       "      <td>94</td>\n",
       "    </tr>\n",
       "    <tr>\n",
       "      <th>1</th>\n",
       "      <td>Anu</td>\n",
       "      <td>87</td>\n",
       "      <td>98</td>\n",
       "    </tr>\n",
       "    <tr>\n",
       "      <th>2</th>\n",
       "      <td>Shree</td>\n",
       "      <td>21</td>\n",
       "      <td>100</td>\n",
       "    </tr>\n",
       "  </tbody>\n",
       "</table>\n",
       "</div>"
      ],
      "text/plain": [
       "     Name  Age  Marks\n",
       "0  Aditya   21     94\n",
       "1     Anu   87     98\n",
       "2   Shree   21    100"
      ]
     },
     "execution_count": 68,
     "metadata": {},
     "output_type": "execute_result"
    }
   ],
   "source": [
    "dist={\n",
    "    'Name':['Aditya','Anu','Shree','Aditya','Anu','Shree'],\n",
    "    'Age':[21,87,21,21,87,21],\n",
    "    'Marks':[94,98,100,94,98,100]\n",
    "}\n",
    "df=pd.DataFrame(dist)\n",
    "df.iloc[:3]"
   ]
  },
  {
   "cell_type": "markdown",
   "id": "17b26559-b082-436d-b967-e3a146327f6c",
   "metadata": {},
   "source": [
    "### Q6. Given a DataFrame of customer records, use .at to update the value of a specific cell at row index 2 and column Name."
   ]
  },
  {
   "cell_type": "code",
   "execution_count": 69,
   "id": "0a78301c-86a7-4027-925e-e4e539519e2f",
   "metadata": {},
   "outputs": [
    {
     "data": {
      "text/html": [
       "<div>\n",
       "<style scoped>\n",
       "    .dataframe tbody tr th:only-of-type {\n",
       "        vertical-align: middle;\n",
       "    }\n",
       "\n",
       "    .dataframe tbody tr th {\n",
       "        vertical-align: top;\n",
       "    }\n",
       "\n",
       "    .dataframe thead th {\n",
       "        text-align: right;\n",
       "    }\n",
       "</style>\n",
       "<table border=\"1\" class=\"dataframe\">\n",
       "  <thead>\n",
       "    <tr style=\"text-align: right;\">\n",
       "      <th></th>\n",
       "      <th>Name</th>\n",
       "      <th>salary</th>\n",
       "      <th>dept</th>\n",
       "    </tr>\n",
       "  </thead>\n",
       "  <tbody>\n",
       "    <tr>\n",
       "      <th>0</th>\n",
       "      <td>Aditya</td>\n",
       "      <td>21</td>\n",
       "      <td>94</td>\n",
       "    </tr>\n",
       "    <tr>\n",
       "      <th>1</th>\n",
       "      <td>Raj</td>\n",
       "      <td>87</td>\n",
       "      <td>98</td>\n",
       "    </tr>\n",
       "    <tr>\n",
       "      <th>2</th>\n",
       "      <td>shree</td>\n",
       "      <td>21</td>\n",
       "      <td>100</td>\n",
       "    </tr>\n",
       "  </tbody>\n",
       "</table>\n",
       "</div>"
      ],
      "text/plain": [
       "     Name  salary  dept\n",
       "0  Aditya      21    94\n",
       "1     Raj      87    98\n",
       "2   shree      21   100"
      ]
     },
     "execution_count": 69,
     "metadata": {},
     "output_type": "execute_result"
    }
   ],
   "source": [
    "dist={\n",
    "    'Name':['Aditya','Raj','Shree'],\n",
    "    'salary':[21,87,21],\n",
    "    'dept':[94,98,100]\n",
    "}\n",
    "df=pd.DataFrame(dist)\n",
    "df.at[2,'Name']='shree'\n",
    "df"
   ]
  },
  {
   "cell_type": "markdown",
   "id": "9885ba16-7b2d-4456-8121-e2fbef40f87b",
   "metadata": {},
   "source": [
    "### Q7. Create a DataFrame with some NaN values in the Marks column. Replace all NaN values with the average (mean) of the Marks column"
   ]
  },
  {
   "cell_type": "code",
   "execution_count": 70,
   "id": "9e8771ba-269c-4439-a494-959c5c77cf0b",
   "metadata": {},
   "outputs": [
    {
     "data": {
      "text/html": [
       "<div>\n",
       "<style scoped>\n",
       "    .dataframe tbody tr th:only-of-type {\n",
       "        vertical-align: middle;\n",
       "    }\n",
       "\n",
       "    .dataframe tbody tr th {\n",
       "        vertical-align: top;\n",
       "    }\n",
       "\n",
       "    .dataframe thead th {\n",
       "        text-align: right;\n",
       "    }\n",
       "</style>\n",
       "<table border=\"1\" class=\"dataframe\">\n",
       "  <thead>\n",
       "    <tr style=\"text-align: right;\">\n",
       "      <th></th>\n",
       "      <th>Name</th>\n",
       "      <th>Age</th>\n",
       "      <th>Marks</th>\n",
       "    </tr>\n",
       "  </thead>\n",
       "  <tbody>\n",
       "    <tr>\n",
       "      <th>0</th>\n",
       "      <td>Aditya</td>\n",
       "      <td>21</td>\n",
       "      <td>94.0</td>\n",
       "    </tr>\n",
       "    <tr>\n",
       "      <th>1</th>\n",
       "      <td>Anu</td>\n",
       "      <td>87</td>\n",
       "      <td>98.0</td>\n",
       "    </tr>\n",
       "    <tr>\n",
       "      <th>2</th>\n",
       "      <td>Shree</td>\n",
       "      <td>21</td>\n",
       "      <td>96.5</td>\n",
       "    </tr>\n",
       "    <tr>\n",
       "      <th>3</th>\n",
       "      <td>Aditya</td>\n",
       "      <td>21</td>\n",
       "      <td>94.0</td>\n",
       "    </tr>\n",
       "    <tr>\n",
       "      <th>4</th>\n",
       "      <td>Anu</td>\n",
       "      <td>87</td>\n",
       "      <td>96.5</td>\n",
       "    </tr>\n",
       "    <tr>\n",
       "      <th>5</th>\n",
       "      <td>Shree</td>\n",
       "      <td>21</td>\n",
       "      <td>100.0</td>\n",
       "    </tr>\n",
       "  </tbody>\n",
       "</table>\n",
       "</div>"
      ],
      "text/plain": [
       "     Name  Age  Marks\n",
       "0  Aditya   21   94.0\n",
       "1     Anu   87   98.0\n",
       "2   Shree   21   96.5\n",
       "3  Aditya   21   94.0\n",
       "4     Anu   87   96.5\n",
       "5   Shree   21  100.0"
      ]
     },
     "execution_count": 70,
     "metadata": {},
     "output_type": "execute_result"
    }
   ],
   "source": [
    "dist={\n",
    "    'Name':['Aditya','Anu','Shree','Aditya','Anu','Shree'],\n",
    "    'Age':[21,87,21,21,87,21],\n",
    "    'Marks':[94,98,None,94,None,100]\n",
    "}\n",
    "df=pd.DataFrame(dist)\n",
    "df.fillna(np.mean(df['Marks']))"
   ]
  },
  {
   "cell_type": "markdown",
   "id": "eb035f80-7f8f-4836-8a34-4be20265e920",
   "metadata": {},
   "source": [
    "### Q8. Load an Excel file named students.xlsx containing student data. Print the first 5 rows of the file.\n"
   ]
  },
  {
   "cell_type": "code",
   "execution_count": 71,
   "id": "725a68b4-00a6-4e54-940b-b38e1addd018",
   "metadata": {},
   "outputs": [
    {
     "data": {
      "text/html": [
       "<div>\n",
       "<style scoped>\n",
       "    .dataframe tbody tr th:only-of-type {\n",
       "        vertical-align: middle;\n",
       "    }\n",
       "\n",
       "    .dataframe tbody tr th {\n",
       "        vertical-align: top;\n",
       "    }\n",
       "\n",
       "    .dataframe thead th {\n",
       "        text-align: right;\n",
       "    }\n",
       "</style>\n",
       "<table border=\"1\" class=\"dataframe\">\n",
       "  <thead>\n",
       "    <tr style=\"text-align: right;\">\n",
       "      <th></th>\n",
       "      <th>Rollno</th>\n",
       "      <th>Name</th>\n",
       "      <th>Dept</th>\n",
       "      <th>Marks</th>\n",
       "      <th>Age</th>\n",
       "    </tr>\n",
       "  </thead>\n",
       "  <tbody>\n",
       "    <tr>\n",
       "      <th>0</th>\n",
       "      <td>1</td>\n",
       "      <td>A</td>\n",
       "      <td>IT</td>\n",
       "      <td>100.0</td>\n",
       "      <td>9</td>\n",
       "    </tr>\n",
       "    <tr>\n",
       "      <th>1</th>\n",
       "      <td>2</td>\n",
       "      <td>B</td>\n",
       "      <td>IT</td>\n",
       "      <td>86.0</td>\n",
       "      <td>10</td>\n",
       "    </tr>\n",
       "    <tr>\n",
       "      <th>2</th>\n",
       "      <td>3</td>\n",
       "      <td>C</td>\n",
       "      <td>IT</td>\n",
       "      <td>NaN</td>\n",
       "      <td>11</td>\n",
       "    </tr>\n",
       "    <tr>\n",
       "      <th>3</th>\n",
       "      <td>4</td>\n",
       "      <td>D</td>\n",
       "      <td>COMP</td>\n",
       "      <td>95.0</td>\n",
       "      <td>12</td>\n",
       "    </tr>\n",
       "    <tr>\n",
       "      <th>4</th>\n",
       "      <td>5</td>\n",
       "      <td>E</td>\n",
       "      <td>COMP</td>\n",
       "      <td>96.0</td>\n",
       "      <td>13</td>\n",
       "    </tr>\n",
       "  </tbody>\n",
       "</table>\n",
       "</div>"
      ],
      "text/plain": [
       "   Rollno Name  Dept  Marks  Age\n",
       "0       1    A    IT  100.0    9\n",
       "1       2    B    IT   86.0   10\n",
       "2       3    C    IT    NaN   11\n",
       "3       4    D  COMP   95.0   12\n",
       "4       5    E  COMP   96.0   13"
      ]
     },
     "execution_count": 71,
     "metadata": {},
     "output_type": "execute_result"
    }
   ],
   "source": [
    "df=pd.read_excel('students.xlsx')\n",
    "df.head(5)"
   ]
  },
  {
   "cell_type": "markdown",
   "id": "7846131d-0515-4a99-b72c-1bdb58985dc1",
   "metadata": {},
   "source": [
    "### Q9. After loading the Excel file, check and display the rows where the Age column is null using .loc."
   ]
  },
  {
   "cell_type": "code",
   "execution_count": 72,
   "id": "0cdc0ff3-4abe-40bd-a029-ab5cc3ec76cb",
   "metadata": {},
   "outputs": [
    {
     "data": {
      "text/html": [
       "<div>\n",
       "<style scoped>\n",
       "    .dataframe tbody tr th:only-of-type {\n",
       "        vertical-align: middle;\n",
       "    }\n",
       "\n",
       "    .dataframe tbody tr th {\n",
       "        vertical-align: top;\n",
       "    }\n",
       "\n",
       "    .dataframe thead th {\n",
       "        text-align: right;\n",
       "    }\n",
       "</style>\n",
       "<table border=\"1\" class=\"dataframe\">\n",
       "  <thead>\n",
       "    <tr style=\"text-align: right;\">\n",
       "      <th></th>\n",
       "      <th>Rollno</th>\n",
       "      <th>Name</th>\n",
       "      <th>Dept</th>\n",
       "      <th>Marks</th>\n",
       "      <th>Age</th>\n",
       "    </tr>\n",
       "  </thead>\n",
       "  <tbody>\n",
       "    <tr>\n",
       "      <th>2</th>\n",
       "      <td>3</td>\n",
       "      <td>C</td>\n",
       "      <td>IT</td>\n",
       "      <td>NaN</td>\n",
       "      <td>11</td>\n",
       "    </tr>\n",
       "    <tr>\n",
       "      <th>7</th>\n",
       "      <td>8</td>\n",
       "      <td>H</td>\n",
       "      <td>AI&amp;DS</td>\n",
       "      <td>NaN</td>\n",
       "      <td>16</td>\n",
       "    </tr>\n",
       "    <tr>\n",
       "      <th>12</th>\n",
       "      <td>13</td>\n",
       "      <td>M</td>\n",
       "      <td>COMP</td>\n",
       "      <td>NaN</td>\n",
       "      <td>21</td>\n",
       "    </tr>\n",
       "    <tr>\n",
       "      <th>20</th>\n",
       "      <td>21</td>\n",
       "      <td>U</td>\n",
       "      <td>IT</td>\n",
       "      <td>NaN</td>\n",
       "      <td>29</td>\n",
       "    </tr>\n",
       "    <tr>\n",
       "      <th>25</th>\n",
       "      <td>26</td>\n",
       "      <td>Z</td>\n",
       "      <td>IT</td>\n",
       "      <td>NaN</td>\n",
       "      <td>12</td>\n",
       "    </tr>\n",
       "    <tr>\n",
       "      <th>28</th>\n",
       "      <td>29</td>\n",
       "      <td>CC</td>\n",
       "      <td>IT</td>\n",
       "      <td>NaN</td>\n",
       "      <td>14</td>\n",
       "    </tr>\n",
       "  </tbody>\n",
       "</table>\n",
       "</div>"
      ],
      "text/plain": [
       "    Rollno Name   Dept  Marks  Age\n",
       "2        3    C     IT    NaN   11\n",
       "7        8    H  AI&DS    NaN   16\n",
       "12      13    M   COMP    NaN   21\n",
       "20      21    U     IT    NaN   29\n",
       "25      26    Z     IT    NaN   12\n",
       "28      29   CC     IT    NaN   14"
      ]
     },
     "execution_count": 72,
     "metadata": {},
     "output_type": "execute_result"
    }
   ],
   "source": [
    "df.loc[df['Marks'].isnull()]"
   ]
  },
  {
   "cell_type": "markdown",
   "id": "0750d808-1324-4498-98d3-1173e3b35f17",
   "metadata": {},
   "source": [
    "### Q10. Calculate the mean of the Salary column from a DataFrame of employee details.\n"
   ]
  },
  {
   "cell_type": "code",
   "execution_count": 73,
   "id": "11894c68-c913-4681-a049-d846945760da",
   "metadata": {},
   "outputs": [
    {
     "name": "stdout",
     "output_type": "stream",
     "text": [
      "mean salary 10464.5\n"
     ]
    }
   ],
   "source": [
    "df=pd.read_excel('employees.xlsx')\n",
    "print('mean salary',np.mean(df['salary']))"
   ]
  },
  {
   "cell_type": "markdown",
   "id": "2df26bd2-1f1c-4e11-991a-b0393f041cef",
   "metadata": {},
   "source": [
    "### Q11. You are given a DataFrame df with missing values in the Score column. Use .loc to fill only those missing values with 75."
   ]
  },
  {
   "cell_type": "code",
   "execution_count": 74,
   "id": "7a9d338e-d10b-4a6e-a9c0-6746666347c2",
   "metadata": {},
   "outputs": [
    {
     "data": {
      "text/plain": [
       "0     100.0\n",
       "1      86.0\n",
       "2      75.0\n",
       "3      95.0\n",
       "4      96.0\n",
       "5      97.0\n",
       "6      98.0\n",
       "7      75.0\n",
       "8     100.0\n",
       "9      87.0\n",
       "10     88.0\n",
       "11     89.0\n",
       "12     75.0\n",
       "13     91.0\n",
       "14     92.0\n",
       "15     93.0\n",
       "16     94.0\n",
       "17     95.0\n",
       "18     96.0\n",
       "19     97.0\n",
       "20     75.0\n",
       "21     99.0\n",
       "22     78.0\n",
       "23     79.0\n",
       "24     80.0\n",
       "25     75.0\n",
       "26     82.0\n",
       "27     83.0\n",
       "28     75.0\n",
       "29     85.0\n",
       "Name: Marks, dtype: float64"
      ]
     },
     "execution_count": 74,
     "metadata": {},
     "output_type": "execute_result"
    }
   ],
   "source": [
    "df=pd.read_excel('students.xlsx')\n",
    "df['Marks'].fillna(75)"
   ]
  },
  {
   "cell_type": "markdown",
   "id": "1bdf7d60-82e7-4a14-acb5-fc2ee96c8242",
   "metadata": {},
   "source": [
    "### Q12. Given a DataFrame df with student grades, use .iloc to print rows 2 to 5 and columns 1 to 3.\n"
   ]
  },
  {
   "cell_type": "code",
   "execution_count": 75,
   "id": "5ac57f0a-cdb1-4993-89c7-7e12c9777124",
   "metadata": {},
   "outputs": [
    {
     "name": "stdout",
     "output_type": "stream",
     "text": [
      "  Name  Dept  Marks\n",
      "2    C    IT    NaN\n",
      "3    D  COMP   95.0\n",
      "4    E  COMP   96.0\n",
      "5    F  COMP   97.0\n"
     ]
    }
   ],
   "source": [
    "df=pd.read_excel('students.xlsx')\n",
    "print(df.iloc[2:6,1:4])"
   ]
  },
  {
   "cell_type": "markdown",
   "id": "98cd9823-c770-4822-b54e-e5f6b04c36f3",
   "metadata": {},
   "source": [
    "### Q13. Use .loc to filter and print all rows where the Age is greater than 20 from a DataFrame."
   ]
  },
  {
   "cell_type": "code",
   "execution_count": 76,
   "id": "6ff6d37a-6b7c-401f-8f18-b96d1f402cdc",
   "metadata": {},
   "outputs": [
    {
     "name": "stdout",
     "output_type": "stream",
     "text": [
      "    Rollno Name  Dept  Marks  Age\n",
      "12      13    M  COMP    NaN   21\n",
      "13      14    N  COMP   91.0   22\n",
      "14      15    O  COMP   92.0   23\n",
      "15      16    P  COMP   93.0   24\n",
      "16      17    Q  COMP   94.0   25\n",
      "17      18    R  COMP   95.0   26\n",
      "18      19    S  COMP   96.0   27\n",
      "19      20    T    IT   97.0   28\n",
      "20      21    U    IT    NaN   29\n",
      "21      22    V    IT   99.0   30\n",
      "22      23    W    IT   78.0   43\n",
      "24      25    Y    IT   80.0   24\n",
      "26      27   AA    IT   82.0   24\n",
      "27      28   BB    IT   83.0   35\n",
      "29      30   DD    IT   85.0   35\n"
     ]
    }
   ],
   "source": [
    "df=pd.read_excel('students.xlsx')\n",
    "print(df.loc[df['Age']>20])"
   ]
  },
  {
   "cell_type": "markdown",
   "id": "7842140c-75f0-445e-bbb7-4c0232855000",
   "metadata": {},
   "source": [
    "### Q14. Create a DataFrame from a dictionary of items (Item, Quantity, Price) and calculate the total price for each row using a new column Total = Quantity * Price.\n"
   ]
  },
  {
   "cell_type": "code",
   "execution_count": 77,
   "id": "6f868b70-3bc0-45e5-9919-2b3c608b9c08",
   "metadata": {},
   "outputs": [
    {
     "data": {
      "text/html": [
       "<div>\n",
       "<style scoped>\n",
       "    .dataframe tbody tr th:only-of-type {\n",
       "        vertical-align: middle;\n",
       "    }\n",
       "\n",
       "    .dataframe tbody tr th {\n",
       "        vertical-align: top;\n",
       "    }\n",
       "\n",
       "    .dataframe thead th {\n",
       "        text-align: right;\n",
       "    }\n",
       "</style>\n",
       "<table border=\"1\" class=\"dataframe\">\n",
       "  <thead>\n",
       "    <tr style=\"text-align: right;\">\n",
       "      <th></th>\n",
       "      <th>item</th>\n",
       "      <th>quantity</th>\n",
       "      <th>Price</th>\n",
       "      <th>Total</th>\n",
       "    </tr>\n",
       "  </thead>\n",
       "  <tbody>\n",
       "    <tr>\n",
       "      <th>0</th>\n",
       "      <td>item1</td>\n",
       "      <td>5</td>\n",
       "      <td>432</td>\n",
       "      <td>2160</td>\n",
       "    </tr>\n",
       "    <tr>\n",
       "      <th>1</th>\n",
       "      <td>item2</td>\n",
       "      <td>47</td>\n",
       "      <td>765</td>\n",
       "      <td>35955</td>\n",
       "    </tr>\n",
       "    <tr>\n",
       "      <th>2</th>\n",
       "      <td>item3</td>\n",
       "      <td>2</td>\n",
       "      <td>35</td>\n",
       "      <td>70</td>\n",
       "    </tr>\n",
       "    <tr>\n",
       "      <th>3</th>\n",
       "      <td>item4</td>\n",
       "      <td>9</td>\n",
       "      <td>123</td>\n",
       "      <td>1107</td>\n",
       "    </tr>\n",
       "    <tr>\n",
       "      <th>4</th>\n",
       "      <td>item5</td>\n",
       "      <td>1</td>\n",
       "      <td>900</td>\n",
       "      <td>900</td>\n",
       "    </tr>\n",
       "    <tr>\n",
       "      <th>5</th>\n",
       "      <td>item6</td>\n",
       "      <td>43</td>\n",
       "      <td>540</td>\n",
       "      <td>23220</td>\n",
       "    </tr>\n",
       "  </tbody>\n",
       "</table>\n",
       "</div>"
      ],
      "text/plain": [
       "    item  quantity  Price  Total\n",
       "0  item1         5    432   2160\n",
       "1  item2        47    765  35955\n",
       "2  item3         2     35     70\n",
       "3  item4         9    123   1107\n",
       "4  item5         1    900    900\n",
       "5  item6        43    540  23220"
      ]
     },
     "execution_count": 77,
     "metadata": {},
     "output_type": "execute_result"
    }
   ],
   "source": [
    "dict1={\n",
    "    'item':['item1','item2','item3','item4','item5','item6'],\n",
    "    'quantity':[5,47,2,9,1,43],\n",
    "    'Price':[432,765,35,123,900,540]\n",
    "}\n",
    "df=pd.DataFrame(dict1)\n",
    "df['Total']=(df['quantity']*df['Price'])\n",
    "df"
   ]
  },
  {
   "cell_type": "markdown",
   "id": "aaebeaa0-57c2-435a-89c3-d48c1096f9bd",
   "metadata": {},
   "source": [
    "### Q15. You have a DataFrame of city temperatures. Some values in the Temperature column are missing. Fill them using the average temperature calculated using mean().\n"
   ]
  },
  {
   "cell_type": "code",
   "execution_count": 79,
   "id": "29ae19be-0570-42fb-b5b9-5fdefb3bfe58",
   "metadata": {},
   "outputs": [
    {
     "data": {
      "text/html": [
       "<div>\n",
       "<style scoped>\n",
       "    .dataframe tbody tr th:only-of-type {\n",
       "        vertical-align: middle;\n",
       "    }\n",
       "\n",
       "    .dataframe tbody tr th {\n",
       "        vertical-align: top;\n",
       "    }\n",
       "\n",
       "    .dataframe thead th {\n",
       "        text-align: right;\n",
       "    }\n",
       "</style>\n",
       "<table border=\"1\" class=\"dataframe\">\n",
       "  <thead>\n",
       "    <tr style=\"text-align: right;\">\n",
       "      <th></th>\n",
       "      <th>city</th>\n",
       "      <th>temperature</th>\n",
       "    </tr>\n",
       "  </thead>\n",
       "  <tbody>\n",
       "    <tr>\n",
       "      <th>0</th>\n",
       "      <td>city1</td>\n",
       "      <td>5.0</td>\n",
       "    </tr>\n",
       "    <tr>\n",
       "      <th>1</th>\n",
       "      <td>city2</td>\n",
       "      <td>47.0</td>\n",
       "    </tr>\n",
       "    <tr>\n",
       "      <th>2</th>\n",
       "      <td>city3</td>\n",
       "      <td>29.0</td>\n",
       "    </tr>\n",
       "    <tr>\n",
       "      <th>3</th>\n",
       "      <td>city4</td>\n",
       "      <td>9.0</td>\n",
       "    </tr>\n",
       "    <tr>\n",
       "      <th>4</th>\n",
       "      <td>city5</td>\n",
       "      <td>29.0</td>\n",
       "    </tr>\n",
       "    <tr>\n",
       "      <th>5</th>\n",
       "      <td>city6</td>\n",
       "      <td>43.0</td>\n",
       "    </tr>\n",
       "    <tr>\n",
       "      <th>6</th>\n",
       "      <td>city7</td>\n",
       "      <td>53.0</td>\n",
       "    </tr>\n",
       "    <tr>\n",
       "      <th>7</th>\n",
       "      <td>city8</td>\n",
       "      <td>32.0</td>\n",
       "    </tr>\n",
       "    <tr>\n",
       "      <th>8</th>\n",
       "      <td>city9</td>\n",
       "      <td>29.0</td>\n",
       "    </tr>\n",
       "    <tr>\n",
       "      <th>9</th>\n",
       "      <td>city10</td>\n",
       "      <td>14.0</td>\n",
       "    </tr>\n",
       "  </tbody>\n",
       "</table>\n",
       "</div>"
      ],
      "text/plain": [
       "     city  temperature\n",
       "0   city1          5.0\n",
       "1   city2         47.0\n",
       "2   city3         29.0\n",
       "3   city4          9.0\n",
       "4   city5         29.0\n",
       "5   city6         43.0\n",
       "6   city7         53.0\n",
       "7   city8         32.0\n",
       "8   city9         29.0\n",
       "9  city10         14.0"
      ]
     },
     "execution_count": 79,
     "metadata": {},
     "output_type": "execute_result"
    }
   ],
   "source": [
    "dict1={\n",
    "    'city':['city1','city2','city3','city4','city5','city6','city7','city8','city9','city10'],\n",
    "    'temperature':[5,47,None,9,None,43,53,32,None,14],\n",
    "}\n",
    "df=pd.DataFrame(dict1)\n",
    "df.fillna(np.mean(df['temperature']))"
   ]
  }
 ],
 "metadata": {
  "kernelspec": {
   "display_name": "Python 3 (ipykernel)",
   "language": "python",
   "name": "python3"
  },
  "language_info": {
   "codemirror_mode": {
    "name": "ipython",
    "version": 3
   },
   "file_extension": ".py",
   "mimetype": "text/x-python",
   "name": "python",
   "nbconvert_exporter": "python",
   "pygments_lexer": "ipython3",
   "version": "3.13.3"
  }
 },
 "nbformat": 4,
 "nbformat_minor": 5
}
