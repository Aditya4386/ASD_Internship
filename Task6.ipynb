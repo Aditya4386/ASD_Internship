{
 "cells": [
  {
   "cell_type": "markdown",
   "id": "945702a3-dda5-4c58-8455-785211917c9f",
   "metadata": {},
   "source": [
    "# Revision Class"
   ]
  },
  {
   "cell_type": "markdown",
   "id": "12faf787-c1ef-4adf-8ad0-90d3598bcad1",
   "metadata": {},
   "source": [
    "### Student Grading System\n",
    "A university wants to categorize student performance based on their marks:\n",
    "- 90+ = Grade A\n",
    "- 70–89 = Grade B\n",
    "- 50–69 = Grade C\n",
    "- Below 50 = Fail\n",
    "Task: Write a program that takes marks as input and prints the grade.\n"
   ]
  },
  {
   "cell_type": "code",
   "execution_count": 7,
   "id": "9f99f3c9-87a9-4b76-8d2c-8cbb2a7dd1b0",
   "metadata": {},
   "outputs": [
    {
     "name": "stdin",
     "output_type": "stream",
     "text": [
      "enter the marks 66\n"
     ]
    },
    {
     "name": "stdout",
     "output_type": "stream",
     "text": [
      "grade C\n"
     ]
    }
   ],
   "source": [
    "num=int(input('enter the marks'))\n",
    "if num>=90:\n",
    "    print(\"grade A\")\n",
    "elif 90>num>70:\n",
    "    print(\"grade B\")\n",
    "elif 70>num>50:\n",
    "    print('grade C')\n",
    "else:\n",
    "    print(\"fail\")"
   ]
  },
  {
   "cell_type": "markdown",
   "id": "d7b0a9f1-87b9-4ab7-a2df-0045ffd5fe6e",
   "metadata": {},
   "source": [
    "### Movie Ticket Discount\n",
    "A theatre offers discounts:\n",
    "- Below age 12: 50% off\n",
    "- 60 and above: 30% off\n",
    "- Otherwise: No discount\n",
    "Task: Take age as input and print the ticket price after discount (assume ticket price is\n",
    "₹200)"
   ]
  },
  {
   "cell_type": "code",
   "execution_count": 11,
   "id": "39b2cf2e-8b6d-4642-9568-29f212f9469c",
   "metadata": {},
   "outputs": [
    {
     "name": "stdin",
     "output_type": "stream",
     "text": [
      " 78\n"
     ]
    },
    {
     "name": "stdout",
     "output_type": "stream",
     "text": [
      "you got 30% off\n",
      "net price is  140.0\n"
     ]
    }
   ],
   "source": [
    "age=int(input())\n",
    "price=200\n",
    "if age<12:\n",
    "    print(\"you got 50% off\")\n",
    "    print('net price is ',price-price*(50/100))\n",
    "elif age>=60:\n",
    "    print(\"you got 30% off\")\n",
    "    print('net price is ',price-price*(30/100))\n",
    "else:\n",
    "    print('no discount')\n",
    "    print('price is ',price)\n",
    "    "
   ]
  },
  {
   "cell_type": "markdown",
   "id": "004e9180-ca8e-428e-93f3-ec1be2e9b130",
   "metadata": {},
   "source": [
    "### Even-Odd Counter\n",
    "A developer needs to count how many even and odd numbers are in a list of integers.\n",
    "Task: Take a list of 10 numbers as input and count how many are even and how many are\n",
    "odd.\n"
   ]
  },
  {
   "cell_type": "code",
   "execution_count": 16,
   "id": "d3a768d2-8a9b-4414-96c4-50247482b073",
   "metadata": {},
   "outputs": [
    {
     "name": "stdout",
     "output_type": "stream",
     "text": [
      "even  5\n",
      "odd  5\n"
     ]
    }
   ],
   "source": [
    "list=[1,2,3,4,5,6,7,8,9,10]\n",
    "even=0\n",
    "odd=0\n",
    "for i in range(len(list)):\n",
    "    if list[i]%2==0:\n",
    "        even+=1\n",
    "    else:\n",
    "        odd+=1\n",
    "\n",
    "print('even ',even)\n",
    "print('odd ',odd)"
   ]
  },
  {
   "cell_type": "markdown",
   "id": "dba6cc99-aa70-42a1-b717-83a1a339504c",
   "metadata": {},
   "source": [
    "### Password Checker\n",
    "A login system asks users to enter a password. It keeps asking until the correct password\n",
    "\"admin123\" is entered.\n",
    "Task: Implement a loop that checks the password and stops only when the correct one is\n",
    "given."
   ]
  },
  {
   "cell_type": "code",
   "execution_count": 17,
   "id": "efec21b2-20e0-4e1d-9b2a-e9ce7b979746",
   "metadata": {},
   "outputs": [
    {
     "name": "stdout",
     "output_type": "stream",
     "text": [
      "Enter teh password\n"
     ]
    },
    {
     "name": "stdin",
     "output_type": "stream",
     "text": [
      " 45678\n"
     ]
    },
    {
     "name": "stdout",
     "output_type": "stream",
     "text": [
      "Enter teh password\n"
     ]
    },
    {
     "name": "stdin",
     "output_type": "stream",
     "text": [
      " 5678\n"
     ]
    },
    {
     "name": "stdout",
     "output_type": "stream",
     "text": [
      "Enter teh password\n"
     ]
    },
    {
     "name": "stdin",
     "output_type": "stream",
     "text": [
      " admin123\n"
     ]
    }
   ],
   "source": [
    "while True:\n",
    "    print('Enter teh password')\n",
    "    pas=input()\n",
    "    if pas=='admin123':\n",
    "        break"
   ]
  },
  {
   "cell_type": "markdown",
   "id": "7b29dd21-cf89-4b92-9b1f-df5be4a31bec",
   "metadata": {},
   "source": [
    "### Multiplication Table Generator\n",
    "A teacher wants a program to generate multiplication tables for any number.\n",
    "Task: Write a function that takes a number and prints its multiplication table up to 10."
   ]
  },
  {
   "cell_type": "code",
   "execution_count": 20,
   "id": "6f249d27-1192-4f57-a4b2-59b036ef97a6",
   "metadata": {},
   "outputs": [
    {
     "name": "stdin",
     "output_type": "stream",
     "text": [
      " 9\n"
     ]
    },
    {
     "name": "stdout",
     "output_type": "stream",
     "text": [
      "9\n",
      "18\n",
      "27\n",
      "36\n",
      "45\n",
      "54\n",
      "63\n",
      "72\n",
      "81\n",
      "90\n"
     ]
    }
   ],
   "source": [
    "num=int(input())\n",
    "for i in range(1,11):\n",
    "    print(num*i)"
   ]
  },
  {
   "cell_type": "markdown",
   "id": "3d90a183-4f0d-4e40-a706-04033c6e2787",
   "metadata": {},
   "source": [
    "### ATM Withdrawal System\n",
    "An ATM gives money in multiples of 100. The balance should be checked before withdrawal.\n",
    "Task: Allow users to input an amount. If it's valid and the balance is sufficient, update the\n",
    "balance. Loop until the user chooses to exit.\n"
   ]
  },
  {
   "cell_type": "code",
   "execution_count": 28,
   "id": "daee3d20-8c85-4ff9-9a4d-1d51133793fc",
   "metadata": {},
   "outputs": [
    {
     "name": "stdout",
     "output_type": "stream",
     "text": [
      "Enter the choice\n",
      "1.check balance\n",
      "2.withdraw money\n",
      "3.Exit\n"
     ]
    },
    {
     "name": "stdin",
     "output_type": "stream",
     "text": [
      " 1\n"
     ]
    },
    {
     "name": "stdout",
     "output_type": "stream",
     "text": [
      "balance is  1000\n",
      "Enter the choice\n",
      "1.check balance\n",
      "2.withdraw money\n",
      "3.Exit\n"
     ]
    },
    {
     "name": "stdin",
     "output_type": "stream",
     "text": [
      " 2\n"
     ]
    },
    {
     "name": "stdout",
     "output_type": "stream",
     "text": [
      "Enter the amount to withdraw (amount is multiple of 100 if not then it will converted)\n"
     ]
    },
    {
     "name": "stdin",
     "output_type": "stream",
     "text": [
      " 342\n"
     ]
    },
    {
     "name": "stdout",
     "output_type": "stream",
     "text": [
      "300  is withdraw successfully\n",
      "Enter the choice\n",
      "1.check balance\n",
      "2.withdraw money\n",
      "3.Exit\n"
     ]
    },
    {
     "name": "stdin",
     "output_type": "stream",
     "text": [
      " 1\n"
     ]
    },
    {
     "name": "stdout",
     "output_type": "stream",
     "text": [
      "balance is  700\n",
      "Enter the choice\n",
      "1.check balance\n",
      "2.withdraw money\n",
      "3.Exit\n"
     ]
    },
    {
     "name": "stdin",
     "output_type": "stream",
     "text": [
      " 1999\n"
     ]
    },
    {
     "name": "stdout",
     "output_type": "stream",
     "text": [
      "enter valid input\n",
      "Enter the choice\n",
      "1.check balance\n",
      "2.withdraw money\n",
      "3.Exit\n"
     ]
    },
    {
     "name": "stdin",
     "output_type": "stream",
     "text": [
      " 2\n"
     ]
    },
    {
     "name": "stdout",
     "output_type": "stream",
     "text": [
      "Enter the amount to withdraw (amount is multiple of 100 if not then it will converted)\n"
     ]
    },
    {
     "name": "stdin",
     "output_type": "stream",
     "text": [
      " 2000\n"
     ]
    },
    {
     "name": "stdout",
     "output_type": "stream",
     "text": [
      "insufficient balance\n",
      "Enter the choice\n",
      "1.check balance\n",
      "2.withdraw money\n",
      "3.Exit\n"
     ]
    },
    {
     "name": "stdin",
     "output_type": "stream",
     "text": [
      " 3\n"
     ]
    }
   ],
   "source": [
    "balance=1000\n",
    "while True:\n",
    "    print(\"Enter the choice\\n1.check balance\\n2.withdraw money\\n3.Exit\")\n",
    "    ch=int(input())\n",
    "    if ch==1:\n",
    "        print('balance is ',balance)\n",
    "    elif ch==2:\n",
    "        print('Enter the amount to withdraw (amount is multiple of 100 if not then it will converted)')\n",
    "        amount=int(input())\n",
    "        amount=(amount//100)*100\n",
    "        if(amount<=balance):\n",
    "            balance-=amount\n",
    "            print(amount,' is withdraw successfully')\n",
    "        else:\n",
    "            print('insufficient balance')\n",
    "    elif ch==3:\n",
    "        break\n",
    "    else:\n",
    "        print('enter valid input')\n",
    "        "
   ]
  },
  {
   "cell_type": "markdown",
   "id": "28a915a2-7bbb-4854-a7b7-98e6c6254f2a",
   "metadata": {},
   "source": [
    "### Star Pattern Printer\n",
    "A school wants to print a triangle star pattern for decoration.\n",
    "Task: Write a program to print the following for a given number of rows (e.g., 5):\n",
    "###### *\n",
    "###### **\n",
    "###### ***\n",
    "###### ****\n",
    "###### *****"
   ]
  },
  {
   "cell_type": "code",
   "execution_count": 31,
   "id": "df9175e3-1f7d-433b-a561-156033efed92",
   "metadata": {},
   "outputs": [
    {
     "name": "stdin",
     "output_type": "stream",
     "text": [
      "Enter the number 5\n"
     ]
    },
    {
     "name": "stdout",
     "output_type": "stream",
     "text": [
      "*\n",
      "**\n",
      "***\n",
      "****\n",
      "*****\n"
     ]
    }
   ],
   "source": [
    "num=int(input('Enter the number'))\n",
    "for i in range(1,num+1):\n",
    "    print('*'*i)"
   ]
  },
  {
   "cell_type": "markdown",
   "id": "c81877db-c992-4f9e-994d-3deb37d08757",
   "metadata": {},
   "source": [
    "### Basic Calculator\n",
    "Build a calculator that can add, subtract, multiply, or divide two numbers.\n",
    "Task: Create a function for each operation. Take the user's choice and perform that\n",
    "operation"
   ]
  },
  {
   "cell_type": "code",
   "execution_count": 35,
   "id": "03ac15df-2449-4e57-850c-78d60642cd6a",
   "metadata": {},
   "outputs": [
    {
     "name": "stdin",
     "output_type": "stream",
     "text": [
      "enter the 1st number 4\n",
      "enter the 2nd number 7\n"
     ]
    },
    {
     "name": "stdout",
     "output_type": "stream",
     "text": [
      "Enter the choice\n",
      "1.addition\n",
      "2.substraction\n",
      "3.multipliication\n",
      "4.division\n",
      "5Exit\n"
     ]
    },
    {
     "name": "stdin",
     "output_type": "stream",
     "text": [
      " 1\n"
     ]
    },
    {
     "name": "stdout",
     "output_type": "stream",
     "text": [
      "11\n"
     ]
    },
    {
     "name": "stdin",
     "output_type": "stream",
     "text": [
      "enter the 1st number 4\n",
      "enter the 2nd number 8\n"
     ]
    },
    {
     "name": "stdout",
     "output_type": "stream",
     "text": [
      "Enter the choice\n",
      "1.addition\n",
      "2.substraction\n",
      "3.multipliication\n",
      "4.division\n",
      "5Exit\n"
     ]
    },
    {
     "name": "stdin",
     "output_type": "stream",
     "text": [
      " 2\n"
     ]
    },
    {
     "name": "stdout",
     "output_type": "stream",
     "text": [
      "-4\n"
     ]
    },
    {
     "name": "stdin",
     "output_type": "stream",
     "text": [
      "enter the 1st number 3\n",
      "enter the 2nd number 4\n"
     ]
    },
    {
     "name": "stdout",
     "output_type": "stream",
     "text": [
      "Enter the choice\n",
      "1.addition\n",
      "2.substraction\n",
      "3.multipliication\n",
      "4.division\n",
      "5Exit\n"
     ]
    },
    {
     "name": "stdin",
     "output_type": "stream",
     "text": [
      " 3\n"
     ]
    },
    {
     "name": "stdout",
     "output_type": "stream",
     "text": [
      "12\n"
     ]
    },
    {
     "name": "stdin",
     "output_type": "stream",
     "text": [
      "enter the 1st number 7\n",
      "enter the 2nd number 7\n"
     ]
    },
    {
     "name": "stdout",
     "output_type": "stream",
     "text": [
      "Enter the choice\n",
      "1.addition\n",
      "2.substraction\n",
      "3.multipliication\n",
      "4.division\n",
      "5Exit\n"
     ]
    },
    {
     "name": "stdin",
     "output_type": "stream",
     "text": [
      " 4\n"
     ]
    },
    {
     "name": "stdout",
     "output_type": "stream",
     "text": [
      "1.0\n"
     ]
    },
    {
     "name": "stdin",
     "output_type": "stream",
     "text": [
      "enter the 1st number 9\n",
      "enter the 2nd number 6\n"
     ]
    },
    {
     "name": "stdout",
     "output_type": "stream",
     "text": [
      "Enter the choice\n",
      "1.addition\n",
      "2.substraction\n",
      "3.multipliication\n",
      "4.division\n",
      "5Exit\n"
     ]
    },
    {
     "name": "stdin",
     "output_type": "stream",
     "text": [
      " 9\n"
     ]
    },
    {
     "name": "stdout",
     "output_type": "stream",
     "text": [
      "enter valid input\n"
     ]
    },
    {
     "name": "stdin",
     "output_type": "stream",
     "text": [
      "enter the 1st number 8\n",
      "enter the 2nd number 7\n"
     ]
    },
    {
     "name": "stdout",
     "output_type": "stream",
     "text": [
      "Enter the choice\n",
      "1.addition\n",
      "2.substraction\n",
      "3.multipliication\n",
      "4.division\n",
      "5Exit\n"
     ]
    },
    {
     "name": "stdin",
     "output_type": "stream",
     "text": [
      " 5\n"
     ]
    }
   ],
   "source": [
    "def add(n1,n2):\n",
    "    return n1+n2\n",
    "def sub(n1,n2):\n",
    "    return n1-n2\n",
    "def mul(n1,n2):\n",
    "    return n1*n2\n",
    "def div(n1,n2):\n",
    "    return n1/n2\n",
    "while True:\n",
    "    n1=int(input('enter the 1st number'))\n",
    "    n2=int(input('enter the 2nd number'))\n",
    "    print(\"Enter the choice\\n1.addition\\n2.substraction\\n3.multipliication\\n4.division\\n5Exit\")\n",
    "    ch=int(input())\n",
    "    if ch==1:\n",
    "        print(add(n1,n2))\n",
    "    elif ch==2:\n",
    "        print(sub(n1,n2))\n",
    "    elif ch==3:\n",
    "        print(mul(n1,n2))\n",
    "    elif ch==4:\n",
    "        print(div(n1,n2))\n",
    "    elif ch==5:\n",
    "        break\n",
    "    else:\n",
    "        print('enter valid input')"
   ]
  },
  {
   "cell_type": "markdown",
   "id": "de09cba8-5705-48ab-86b8-320dac6a0330",
   "metadata": {},
   "source": [
    "### Library Late Fine Calculator\n",
    "A library charges a fine for late returns:\n",
    "- 1–5 days: ₹2 per day\n",
    "- 6–10 days: ₹5 per day\n",
    "- more than 10 days: ₹10 per day\n",
    "- Task: Write a function that takes number of late days and returns the fine."
   ]
  },
  {
   "cell_type": "code",
   "execution_count": 36,
   "id": "5e31d941-7146-44e1-84ce-0a5ab4155679",
   "metadata": {},
   "outputs": [
    {
     "name": "stdin",
     "output_type": "stream",
     "text": [
      " 78\n"
     ]
    },
    {
     "name": "stdout",
     "output_type": "stream",
     "text": [
      "fine =  780\n"
     ]
    }
   ],
   "source": [
    "late_days=int(input())\n",
    "if 0<late_days<6:\n",
    "    print('fine = ',late_days*2)\n",
    "elif 5<late_days<11:\n",
    "    print('fine = ',late_days*5)\n",
    "else:\n",
    "    print('fine = ',late_days*10)"
   ]
  },
  {
   "cell_type": "markdown",
   "id": "4095d83b-c50e-4a70-9c06-46ed868bfb18",
   "metadata": {},
   "source": [
    "### Hotel Menu Ordering System\n",
    "A hotel has a menu with breakfast and lunch options. The user selects the category and then\n",
    "an item.\n",
    "Task: Use nested if and function to:\n",
    "- Show menu\n",
    "- Take user's selection\n",
    "- Print selected item and price."
   ]
  },
  {
   "cell_type": "code",
   "execution_count": 40,
   "id": "7ad9fca0-f031-45a0-84f9-e666faeed50a",
   "metadata": {},
   "outputs": [
    {
     "name": "stdout",
     "output_type": "stream",
     "text": [
      "---- MENU ----\n",
      "Chicken Biryani:₹220\n",
      "Mutton Biryani:₹280\n",
      "Prawns Biryani:₹250\n",
      "Egg Biryani:₹180\n",
      "Butter Chicken:₹240\n",
      "Mutton Curry:₹260\n",
      "Fish Curry:₹200\n",
      "Kadai Chicken:₹230\n",
      "Chicken 65:₹160\n",
      "Tandoori Chicken (Half):₹180\n",
      "Chicken Lollipop:₹150\n",
      "Fish Fry:₹170\n",
      "Chicken Shawarma:₹120\n",
      "Egg Curry:₹110\n",
      "Keema Paratha:₹90\n",
      "Pepper Chicken:₹190\n"
     ]
    },
    {
     "name": "stdin",
     "output_type": "stream",
     "text": [
      "enter item name:  Chicken Biryani\n"
     ]
    },
    {
     "name": "stdout",
     "output_type": "stream",
     "text": [
      "your order Chicken Biryani with price ₹220\n"
     ]
    }
   ],
   "source": [
    "menu = {\n",
    "    # Biryani/Rice\n",
    "    \"Chicken Biryani\": 220,\n",
    "    \"Mutton Biryani\": 280,\n",
    "    \"Prawns Biryani\": 250,\n",
    "    \"Egg Biryani\": 180,\n",
    "    \n",
    "    # Curries\n",
    "    \"Butter Chicken\": 240,\n",
    "    \"Mutton Curry\": 260,\n",
    "    \"Fish Curry\": 200,\n",
    "    \"Kadai Chicken\": 230,\n",
    "    \n",
    "    # Fried/Starters\n",
    "    \"Chicken 65\": 160,\n",
    "    \"Tandoori Chicken (Half)\": 180,\n",
    "    \"Chicken Lollipop\": 150,\n",
    "    \"Fish Fry\": 170,\n",
    "    \n",
    "    # Others\n",
    "    \"Chicken Shawarma\": 120,\n",
    "    \"Egg Curry\": 110,\n",
    "    \"Keema Paratha\": 90,\n",
    "    \"Pepper Chicken\": 190\n",
    "}\n",
    "\n",
    "def show():\n",
    "    print(\"---- MENU ----\")\n",
    "    for item,price in menu.items():\n",
    "        print(f\"{item}:₹{price}\")\n",
    "\n",
    "def order():\n",
    "    show()\n",
    "    item=input(\"enter item name: \")\n",
    "    if item in menu:\n",
    "        print(f\"your order {item} with price ₹{menu[item]}\")\n",
    "    else:\n",
    "        print(\"item not found!\")\n",
    "\n",
    "order()"
   ]
  }
 ],
 "metadata": {
  "kernelspec": {
   "display_name": "Python 3 (ipykernel)",
   "language": "python",
   "name": "python3"
  },
  "language_info": {
   "codemirror_mode": {
    "name": "ipython",
    "version": 3
   },
   "file_extension": ".py",
   "mimetype": "text/x-python",
   "name": "python",
   "nbconvert_exporter": "python",
   "pygments_lexer": "ipython3",
   "version": "3.13.3"
  }
 },
 "nbformat": 4,
 "nbformat_minor": 5
}
