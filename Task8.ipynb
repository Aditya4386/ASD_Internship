{
 "cells": [
  {
   "cell_type": "markdown",
   "id": "7591851f-9597-4dee-ae11-ccb07dcc4739",
   "metadata": {},
   "source": [
    "## 1. Create a set of 5 unique numbers. Add a new number to the set and print the updated set."
   ]
  },
  {
   "cell_type": "code",
   "execution_count": 28,
   "id": "0163cfc9-ec87-4fe8-aec8-60ec9dd89591",
   "metadata": {},
   "outputs": [
    {
     "name": "stdout",
     "output_type": "stream",
     "text": [
      "{1, 2, 3, 4, 5}\n",
      "{1, 2, 3, 4, 5, 6}\n"
     ]
    }
   ],
   "source": [
    "set1={1,2,3,4,5}\n",
    "print(set1)\n",
    "set1.add(6)\n",
    "print(set1)"
   ]
  },
  {
   "cell_type": "markdown",
   "id": "3a4a1fde-5f5d-4d1e-ad16-57dbdea99407",
   "metadata": {},
   "source": [
    "## 2. Write a program to find the union of two sets: {1, 2, 3} and {3, 4, 5}"
   ]
  },
  {
   "cell_type": "code",
   "execution_count": 29,
   "id": "9751b719-51d3-4f6c-8307-3d0b0f1e6f6a",
   "metadata": {},
   "outputs": [
    {
     "name": "stdout",
     "output_type": "stream",
     "text": [
      "{1, 2, 3, 4, 5}\n"
     ]
    }
   ],
   "source": [
    "set1={1,2,3}\n",
    "set2={3,4,5}\n",
    "\n",
    "print(set1 | set2)"
   ]
  },
  {
   "cell_type": "markdown",
   "id": "eb1cba7a-e9af-46fd-a130-855993ff1cb9",
   "metadata": {},
   "source": [
    "## 3. Create a dictionary with names as keys and ages as values. Print the age of a specific person."
   ]
  },
  {
   "cell_type": "code",
   "execution_count": 30,
   "id": "70e8f35c-b5cf-42e9-a1a8-4996b953af19",
   "metadata": {},
   "outputs": [
    {
     "name": "stdout",
     "output_type": "stream",
     "text": [
      "34\n"
     ]
    }
   ],
   "source": [
    "dict1={\n",
    "    'karan':31,\n",
    "    \"aditya\":21,\n",
    "    'Bankai':34\n",
    "}\n",
    "\n",
    "print(dict1['Bankai'])"
   ]
  },
  {
   "cell_type": "markdown",
   "id": "431533ca-94b7-4198-9f8e-b9e8b4c53e42",
   "metadata": {},
   "source": [
    "## 4. Check if a given key exists in a dictionary. If not, add it with a default value."
   ]
  },
  {
   "cell_type": "code",
   "execution_count": 31,
   "id": "13c63412-2a07-4565-8721-db9e6f145652",
   "metadata": {},
   "outputs": [
    {
     "name": "stdout",
     "output_type": "stream",
     "text": [
      "None\n",
      "{'karan': 31, 'aditya': 21, 'Bankai': 34, 'bankai': None}\n"
     ]
    }
   ],
   "source": [
    "dict1={\n",
    "    'karan':31,\n",
    "    \"aditya\":21,\n",
    "    'Bankai':34\n",
    "}\n",
    "print(dict1['bankai'] if 'bankai' in dict1 else dict1.update({'bankai':None}))\n",
    "print(dict1)"
   ]
  },
  {
   "cell_type": "markdown",
   "id": "65faabbe-cbec-4d24-9ac3-36b80ae6c5ae",
   "metadata": {},
   "source": [
    "## . 5. Remove a specific item from a set and display the updated set."
   ]
  },
  {
   "cell_type": "code",
   "execution_count": 32,
   "id": "f3d634a9-3138-49ba-839c-c81a09840208",
   "metadata": {},
   "outputs": [
    {
     "name": "stdout",
     "output_type": "stream",
     "text": [
      "{1, 2, 3, 4, 5}\n",
      "{1, 2, 3, 5}\n"
     ]
    }
   ],
   "source": [
    "set1={1,2,3,4,5}\n",
    "print(set1)\n",
    "set1.discard(4)\n",
    "print(set1)"
   ]
  },
  {
   "cell_type": "markdown",
   "id": "a2483b6a-102b-4d42-a305-dda1bfe1e821",
   "metadata": {},
   "source": [
    "## 6. Write a program to count the number of times each word appears in a sentence using a dictionary."
   ]
  },
  {
   "cell_type": "code",
   "execution_count": 19,
   "id": "697449e0-22b8-4679-a29c-675786eb0406",
   "metadata": {},
   "outputs": [
    {
     "name": "stderr",
     "output_type": "stream",
     "text": [
      "[nltk_data] Downloading package punkt to C:\\Users\\ADITYA\n",
      "[nltk_data]     PAWAR\\AppData\\Roaming\\nltk_data...\n",
      "[nltk_data]   Package punkt is already up-to-date!\n",
      "[nltk_data] Downloading package punkt_tab to C:\\Users\\ADITYA\n",
      "[nltk_data]     PAWAR\\AppData\\Roaming\\nltk_data...\n",
      "[nltk_data]   Unzipping tokenizers\\punkt_tab.zip.\n"
     ]
    },
    {
     "data": {
      "text/plain": [
       "True"
      ]
     },
     "execution_count": 19,
     "metadata": {},
     "output_type": "execute_result"
    }
   ],
   "source": [
    "import nltk\n",
    "nltk.download('punkt')\n",
    "nltk.download('punkt_tab')"
   ]
  },
  {
   "cell_type": "code",
   "execution_count": 33,
   "id": "3caecb19-4058-4319-9221-c7ee51a57fcb",
   "metadata": {},
   "outputs": [
    {
     "name": "stdout",
     "output_type": "stream",
     "text": [
      "{'The': 1, 'quick': 1, 'brown': 1, 'fox': 1, 'jumps': 1, 'over': 3, 'the': 3, 'lazy': 3, 'dog': 3}\n"
     ]
    }
   ],
   "source": [
    "from nltk.tokenize import word_tokenize\n",
    "\n",
    "sentence = \"The quick brown fox jumps over the lazy dog, over the lazy dog, over the lazy dog\"\n",
    "\n",
    "words = word_tokenize(sentence)\n",
    "dict1 = {}\n",
    "for word in words:\n",
    "    if word.isalpha():\n",
    "        if word in dict1:\n",
    "            dict1[word] += 1\n",
    "        else:\n",
    "            dict1[word] = 1\n",
    "\n",
    "print(dict1)\n"
   ]
  },
  {
   "cell_type": "markdown",
   "id": "3f9776b0-dea1-4a2b-9052-559c1b2e5e12",
   "metadata": {},
   "source": [
    "## 7. Create a set with duplicate values and print the set to show that duplicates are not allowed.\n"
   ]
  },
  {
   "cell_type": "code",
   "execution_count": 34,
   "id": "de337ae2-4641-4929-a286-0c3ed1d289fd",
   "metadata": {},
   "outputs": [
    {
     "name": "stdout",
     "output_type": "stream",
     "text": [
      "{1, 2, 3, 4, 5, 7, 8}\n"
     ]
    }
   ],
   "source": [
    "set1={1,2,3,4,5,1,2,4,5,7,8,8,8}\n",
    "print(set1)"
   ]
  },
  {
   "cell_type": "markdown",
   "id": "39c4a766-27dd-40eb-b5ce-21af436fb6bb",
   "metadata": {},
   "source": [
    "## 8. Merge two dictionaries into one and print the result."
   ]
  },
  {
   "cell_type": "code",
   "execution_count": 35,
   "id": "9746cbaf-9d6e-4452-9205-cf7fa41df3af",
   "metadata": {},
   "outputs": [
    {
     "name": "stdout",
     "output_type": "stream",
     "text": [
      "{'karan': 31, 'aditya': 21, 'Bankai': 34, 'aran': 31, 'adityaa': 21, 'Bankaii': 34}\n"
     ]
    }
   ],
   "source": [
    "dict1={\n",
    "    'karan':31,\n",
    "    \"aditya\":21,\n",
    "    'Bankai':34\n",
    "}\n",
    "\n",
    "dict2={\n",
    "    'aran':31,\n",
    "    \"adityaa\":21,\n",
    "    'Bankaii':34\n",
    "}\n",
    "\n",
    "dict1.update(dict2)\n",
    "print(dict1)"
   ]
  },
  {
   "cell_type": "markdown",
   "id": "82522332-9f72-4b4d-aff6-f0167e5d9c30",
   "metadata": {},
   "source": [
    "## 9. Use a dictionary to store student names and their scores. Calculate the average score"
   ]
  },
  {
   "cell_type": "code",
   "execution_count": 36,
   "id": "ec473d1c-b2b3-4751-a288-8a6d7e8c60d9",
   "metadata": {},
   "outputs": [
    {
     "name": "stdout",
     "output_type": "stream",
     "text": [
      "28.666666666666668\n"
     ]
    }
   ],
   "source": [
    "sum=0\n",
    "for key,value in dict1.items():\n",
    "    sum+=value\n",
    "\n",
    "print(sum/len(dict1))"
   ]
  },
  {
   "cell_type": "markdown",
   "id": "c84666bc-2b2a-4c89-b132-d0f2d9bd591d",
   "metadata": {},
   "source": [
    "## 10. Write a program to find the intersection of two sets: {'apple', 'banana', 'cherry'} and {'banana', 'cherry', 'date'}"
   ]
  },
  {
   "cell_type": "code",
   "execution_count": 37,
   "id": "4482ebad-422d-4c2e-8962-83ecb77ddd09",
   "metadata": {},
   "outputs": [
    {
     "name": "stdout",
     "output_type": "stream",
     "text": [
      "{'cherry', 'banana'}\n"
     ]
    }
   ],
   "source": [
    "dict1={'apple', 'banana', 'cherry'}\n",
    "dict2={'banana', 'cherry', 'date'}\n",
    "\n",
    "print(dict1 & dict2)"
   ]
  },
  {
   "cell_type": "code",
   "execution_count": null,
   "id": "472c277f-1678-489a-9826-efd5c617a14e",
   "metadata": {},
   "outputs": [],
   "source": []
  }
 ],
 "metadata": {
  "kernelspec": {
   "display_name": "Python 3 (ipykernel)",
   "language": "python",
   "name": "python3"
  },
  "language_info": {
   "codemirror_mode": {
    "name": "ipython",
    "version": 3
   },
   "file_extension": ".py",
   "mimetype": "text/x-python",
   "name": "python",
   "nbconvert_exporter": "python",
   "pygments_lexer": "ipython3",
   "version": "3.13.3"
  }
 },
 "nbformat": 4,
 "nbformat_minor": 5
}
