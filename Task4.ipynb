{
 "cells": [
  {
   "cell_type": "markdown",
   "id": "82ae5bb2-63c0-4a8b-a711-d2b0ce23ce8e",
   "metadata": {},
   "source": [
    "# Basic Python Function Problems"
   ]
  },
  {
   "cell_type": "markdown",
   "id": "5d1fc4db-754b-4500-8af4-ac84ea8fbdc1",
   "metadata": {},
   "source": [
    "#### 1. Create a function that takes a number and returns its square"
   ]
  },
  {
   "cell_type": "code",
   "execution_count": 3,
   "id": "19fcb15a-e49a-45bf-a357-332f2ef486b5",
   "metadata": {},
   "outputs": [
    {
     "name": "stdout",
     "output_type": "stream",
     "text": [
      "25\n"
     ]
    }
   ],
   "source": [
    "square = lambda x:x*x\n",
    "\n",
    "print(square(5))"
   ]
  },
  {
   "cell_type": "markdown",
   "id": "1f2cf619-b2a0-42f8-bf68-1e74b77dfe18",
   "metadata": {},
   "source": [
    "#### 2. Write a function that checks whether a number is even or odd."
   ]
  },
  {
   "cell_type": "code",
   "execution_count": 3,
   "id": "e4eca1ef-4dbb-4ecf-a356-f662b8617c0e",
   "metadata": {},
   "outputs": [
    {
     "name": "stdout",
     "output_type": "stream",
     "text": [
      "0\n"
     ]
    }
   ],
   "source": [
    "checknum= lambda x: 1 if x%2==0 else 0\n",
    "\n",
    "print(checknum(3))"
   ]
  },
  {
   "cell_type": "markdown",
   "id": "57dc58ad-0396-4877-be59-ea480424c745",
   "metadata": {},
   "source": [
    "#### 3. Create a function that takes two numbers and returns the larger one"
   ]
  },
  {
   "cell_type": "code",
   "execution_count": 5,
   "id": "fcc38ade-4d52-40fd-94bc-b642d5cb7517",
   "metadata": {},
   "outputs": [
    {
     "name": "stdout",
     "output_type": "stream",
     "text": [
      "-1\n"
     ]
    }
   ],
   "source": [
    "def larger(num1,num2):\n",
    "    if num1>num2:\n",
    "        return num1\n",
    "    elif num1<num2:\n",
    "        return num2\n",
    "    else:\n",
    "        return -1\n",
    "\n",
    "res=larger(10,10)\n",
    "print(res)"
   ]
  },
  {
   "cell_type": "markdown",
   "id": "505f94d0-9059-492c-ad65-dd51ea02a7f7",
   "metadata": {},
   "source": [
    "#### 4. Write a function that calculates the area of a circle using radius as input."
   ]
  },
  {
   "cell_type": "code",
   "execution_count": 8,
   "id": "6b96ba73-d1c6-4756-bc9e-920c2544e212",
   "metadata": {},
   "outputs": [
    {
     "name": "stdout",
     "output_type": "stream",
     "text": [
      "50.24\n"
     ]
    }
   ],
   "source": [
    "area= lambda x: 3.14*x*x\n",
    "\n",
    "print(area(4))"
   ]
  },
  {
   "cell_type": "markdown",
   "id": "63ba78a5-cbf1-46c5-ba2b-c5877daf1756",
   "metadata": {},
   "source": [
    "#### 5. Define a function to check if a number is positive, negative, or zero."
   ]
  },
  {
   "cell_type": "code",
   "execution_count": 13,
   "id": "81dbf780-e050-4129-a746-134e2fa418db",
   "metadata": {},
   "outputs": [
    {
     "name": "stdout",
     "output_type": "stream",
     "text": [
      "negative\n"
     ]
    }
   ],
   "source": [
    "def check(num1):\n",
    "    if num1>0:\n",
    "        print('positive')\n",
    "    elif num1<0:\n",
    "        print('negative')\n",
    "    else:\n",
    "        print('zero')\n",
    "\n",
    "res=check(-1)"
   ]
  },
  {
   "cell_type": "markdown",
   "id": "6ce3b3c1-4095-4dbf-8287-2a7f44014f2e",
   "metadata": {},
   "source": [
    "#### 6. Create a function that returns the sum of two numbers.\n"
   ]
  },
  {
   "cell_type": "code",
   "execution_count": 14,
   "id": "99313373-a0c8-4d87-82f7-5491c23a86ce",
   "metadata": {},
   "outputs": [
    {
     "name": "stdout",
     "output_type": "stream",
     "text": [
      "2\n"
     ]
    }
   ],
   "source": [
    "def sum(num1,num2):\n",
    "    return num1+num2\n",
    "\n",
    "res=sum(-18,20)\n",
    "print(res)"
   ]
  },
  {
   "cell_type": "markdown",
   "id": "34fbb28b-d9cd-4adc-9d11-84c8cb3bca62",
   "metadata": {},
   "source": [
    "#### 7. Write a function that returns the length of a string."
   ]
  },
  {
   "cell_type": "code",
   "execution_count": 15,
   "id": "817a0bae-f3b7-46cf-8a3f-2b8ead7325ef",
   "metadata": {},
   "outputs": [
    {
     "name": "stdout",
     "output_type": "stream",
     "text": [
      "6\n"
     ]
    }
   ],
   "source": [
    "def check(str):\n",
    "    return len(str)\n",
    "res=check(\"aditya\")\n",
    "print(res)"
   ]
  },
  {
   "cell_type": "markdown",
   "id": "4a27ed48-8c18-4fd0-940b-33ca56fc2a93",
   "metadata": {},
   "source": [
    "#### 8. Define a function that returns the reverse of a string"
   ]
  },
  {
   "cell_type": "code",
   "execution_count": 19,
   "id": "15ed8713-4623-4226-b10e-836c2a6fb2f2",
   "metadata": {},
   "outputs": [
    {
     "name": "stdout",
     "output_type": "stream",
     "text": [
      "aytida\n"
     ]
    }
   ],
   "source": [
    "def rever(str):\n",
    "    return str[::-1]\n",
    "res=rever(\"aditya\")\n",
    "print(res)"
   ]
  },
  {
   "cell_type": "markdown",
   "id": "43589bcb-96dd-4203-9f06-df65cd969225",
   "metadata": {},
   "source": [
    "#### 9. Create a function that counts the number of vowels in a string"
   ]
  },
  {
   "cell_type": "code",
   "execution_count": 20,
   "id": "f710026b-8bc8-45d7-9518-898635ac0a3b",
   "metadata": {},
   "outputs": [
    {
     "name": "stdout",
     "output_type": "stream",
     "text": [
      "3\n"
     ]
    }
   ],
   "source": [
    "def count_(str):\n",
    "    vowels=\"aeiouAEIOU\"\n",
    "    count=0\n",
    "    for char in str:\n",
    "        if char in vowels:\n",
    "            count += 1\n",
    "    return count\n",
    "\n",
    "print(count_(\"Aditya\"))"
   ]
  },
  {
   "cell_type": "markdown",
   "id": "b8277e92-8022-4d77-944c-5349e2f7ba6c",
   "metadata": {},
   "source": [
    "#### 10. Write a function to convert Celsius to Fahrenheit"
   ]
  },
  {
   "cell_type": "code",
   "execution_count": 21,
   "id": "c6dcf709-1174-4cf9-b81b-51b3d8481deb",
   "metadata": {},
   "outputs": [
    {
     "name": "stdout",
     "output_type": "stream",
     "text": [
      "32.0\n"
     ]
    }
   ],
   "source": [
    "def fahrenheit(c):\n",
    "    return (c*9/5)+32\n",
    "\n",
    "print(fahrenheit(0)) "
   ]
  },
  {
   "cell_type": "markdown",
   "id": "a8859ea0-034c-4507-80d7-3d275f444f76",
   "metadata": {},
   "source": [
    "#### 11. Create a function that returns the product of all elements in a list"
   ]
  },
  {
   "cell_type": "code",
   "execution_count": 23,
   "id": "a807b085-33de-4d33-8efe-8e45f65880d0",
   "metadata": {},
   "outputs": [
    {
     "name": "stdout",
     "output_type": "stream",
     "text": [
      "24\n"
     ]
    }
   ],
   "source": [
    "def product(lst):\n",
    "    product=1\n",
    "    for num in lst:\n",
    "        product*=num\n",
    "    return product\n",
    "\n",
    "print(product([1,2,3,4]))"
   ]
  },
  {
   "cell_type": "markdown",
   "id": "34fe8222-94df-4efa-ad18-b6fb146e979e",
   "metadata": {},
   "source": [
    "#### . 12. Write a function that returns the maximum number in a list.\n"
   ]
  },
  {
   "cell_type": "code",
   "execution_count": 24,
   "id": "d670dd23-5884-4d97-a756-5166df276145",
   "metadata": {},
   "outputs": [
    {
     "name": "stdout",
     "output_type": "stream",
     "text": [
      "99\n"
     ]
    }
   ],
   "source": [
    "def maxx(lst):\n",
    "    return max(lst)\n",
    "\n",
    "print(maxx([10,99,48]))"
   ]
  },
  {
   "cell_type": "markdown",
   "id": "2a8cd1d5-bda8-471c-a506-ad905fe7977a",
   "metadata": {},
   "source": [
    "#### 13. Define a function that returns the sum of even numbers in a list."
   ]
  },
  {
   "cell_type": "code",
   "execution_count": 29,
   "id": "11dc7782-6773-42d9-b5aa-f6bddf083533",
   "metadata": {},
   "outputs": [
    {
     "name": "stdout",
     "output_type": "stream",
     "text": [
      "6\n"
     ]
    }
   ],
   "source": [
    "def sum_even(list):\n",
    "    total=0\n",
    "    for num in list:\n",
    "        if num%2==0:\n",
    "            total+=num\n",
    "    return total\n",
    "\n",
    "print(sum_even([1,2,3,4,])) "
   ]
  },
  {
   "cell_type": "markdown",
   "id": "3743ad61-2d2a-477c-b790-0c5de562b09f",
   "metadata": {},
   "source": [
    "#### 14. Write a function that checks whether a string is a palindrome."
   ]
  },
  {
   "cell_type": "code",
   "execution_count": 31,
   "id": "7ca2e8dc-86a1-4e0b-b70d-aa953c1cdc36",
   "metadata": {},
   "outputs": [
    {
     "name": "stdout",
     "output_type": "stream",
     "text": [
      "False\n"
     ]
    }
   ],
   "source": [
    "def palin(str):\n",
    "    return str==str[::-1]\n",
    "print(palin(\"Aditya\")) "
   ]
  },
  {
   "cell_type": "markdown",
   "id": "5ccfffae-818f-4e05-a7f2-9a9fab2df511",
   "metadata": {},
   "source": [
    "####  15. Create a function to count how many times a character appears in a string."
   ]
  },
  {
   "cell_type": "code",
   "execution_count": 30,
   "id": "c1e73550-523d-4f8e-badd-b5138857e308",
   "metadata": {},
   "outputs": [
    {
     "name": "stdout",
     "output_type": "stream",
     "text": [
      "2\n"
     ]
    }
   ],
   "source": [
    "def count(str, char):\n",
    "    return str.count(char)\n",
    "\n",
    "print(count(\"aditya\", \"a\")) "
   ]
  }
 ],
 "metadata": {
  "kernelspec": {
   "display_name": "Python 3 (ipykernel)",
   "language": "python",
   "name": "python3"
  },
  "language_info": {
   "codemirror_mode": {
    "name": "ipython",
    "version": 3
   },
   "file_extension": ".py",
   "mimetype": "text/x-python",
   "name": "python",
   "nbconvert_exporter": "python",
   "pygments_lexer": "ipython3",
   "version": "3.13.3"
  }
 },
 "nbformat": 4,
 "nbformat_minor": 5
}
