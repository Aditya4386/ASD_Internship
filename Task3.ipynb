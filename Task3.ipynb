{
 "cells": [
  {
   "cell_type": "markdown",
   "id": "4390461b-48f0-410e-bda8-ca473dae1fe4",
   "metadata": {},
   "source": [
    "# Top 10 Loop-Based Case Study\n",
    "## Problems in Python"
   ]
  },
  {
   "cell_type": "markdown",
   "id": "1d35b369-e704-4d60-bb0d-02072c663b6f",
   "metadata": {},
   "source": [
    "###### "
   ]
  },
  {
   "cell_type": "markdown",
   "id": "60e957ed-48cb-44f9-aa97-3c5685e8d3e2",
   "metadata": {},
   "source": [
    "#### 1. Employee Salary Processing\n",
    "Write a Python program using loops to enter the working hours of multiple\n",
    "employees and calculate their total monthly salary including bonuses for overtime."
   ]
  },
  {
   "cell_type": "code",
   "execution_count": null,
   "id": "424cfda2-63b1-42f2-985e-042d0041eb91",
   "metadata": {},
   "outputs": [],
   "source": []
  },
  {
   "cell_type": "markdown",
   "id": "b914044b-9308-439f-8667-46a445a0632a",
   "metadata": {},
   "source": [
    "#### 2. E-commerce Order Summary Generator\n",
    "Design a loop-based Python script to input multiple product orders (name, quantity,\n",
    "price), calculate subtotal for each, and show the final bill.\n"
   ]
  },
  {
   "cell_type": "code",
   "execution_count": 2,
   "id": "58d85173-d234-4454-9534-6c138e4ae135",
   "metadata": {},
   "outputs": [
    {
     "name": "stdout",
     "output_type": "stream",
     "text": [
      "Enter teh number of products\n"
     ]
    },
    {
     "name": "stdin",
     "output_type": "stream",
     "text": [
      " 4\n"
     ]
    },
    {
     "name": "stdout",
     "output_type": "stream",
     "text": [
      "Enter the name of product\n"
     ]
    },
    {
     "name": "stdin",
     "output_type": "stream",
     "text": [
      " p1\n"
     ]
    },
    {
     "name": "stdout",
     "output_type": "stream",
     "text": [
      "enter quantity\n"
     ]
    },
    {
     "name": "stdin",
     "output_type": "stream",
     "text": [
      " 3\n"
     ]
    },
    {
     "name": "stdout",
     "output_type": "stream",
     "text": [
      "Enter the price\n"
     ]
    },
    {
     "name": "stdin",
     "output_type": "stream",
     "text": [
      " 98\n"
     ]
    },
    {
     "name": "stdout",
     "output_type": "stream",
     "text": [
      "Enter the name of product\n"
     ]
    },
    {
     "name": "stdin",
     "output_type": "stream",
     "text": [
      " p2\n"
     ]
    },
    {
     "name": "stdout",
     "output_type": "stream",
     "text": [
      "enter quantity\n"
     ]
    },
    {
     "name": "stdin",
     "output_type": "stream",
     "text": [
      " 5\n"
     ]
    },
    {
     "name": "stdout",
     "output_type": "stream",
     "text": [
      "Enter the price\n"
     ]
    },
    {
     "name": "stdin",
     "output_type": "stream",
     "text": [
      " 97\n"
     ]
    },
    {
     "name": "stdout",
     "output_type": "stream",
     "text": [
      "Enter the name of product\n"
     ]
    },
    {
     "name": "stdin",
     "output_type": "stream",
     "text": [
      " p3\n"
     ]
    },
    {
     "name": "stdout",
     "output_type": "stream",
     "text": [
      "enter quantity\n"
     ]
    },
    {
     "name": "stdin",
     "output_type": "stream",
     "text": [
      " 14\n"
     ]
    },
    {
     "name": "stdout",
     "output_type": "stream",
     "text": [
      "Enter the price\n"
     ]
    },
    {
     "name": "stdin",
     "output_type": "stream",
     "text": [
      " 97\n"
     ]
    },
    {
     "name": "stdout",
     "output_type": "stream",
     "text": [
      "Enter the name of product\n"
     ]
    },
    {
     "name": "stdin",
     "output_type": "stream",
     "text": [
      " p4\n"
     ]
    },
    {
     "name": "stdout",
     "output_type": "stream",
     "text": [
      "enter quantity\n"
     ]
    },
    {
     "name": "stdin",
     "output_type": "stream",
     "text": [
      " 10\n"
     ]
    },
    {
     "name": "stdout",
     "output_type": "stream",
     "text": [
      "Enter the price\n"
     ]
    },
    {
     "name": "stdin",
     "output_type": "stream",
     "text": [
      " 110\n"
     ]
    },
    {
     "name": "stdout",
     "output_type": "stream",
     "text": [
      "Product           Quantity             Price          total Price\n",
      "   p1                 3                98              294\n",
      "   p2                 5                97              485\n",
      "   p3                 14                97              1358\n",
      "   p4                 10                110              1100\n",
      "_______________________________________________________________________________\n",
      "Total                                                         3237\n"
     ]
    }
   ],
   "source": [
    "print('Enter teh number of products') \n",
    "n = int(input())\n",
    "name = [] \n",
    "quantity = []\n",
    "price = []\n",
    "sum = 0\n",
    "for i in range(n):\n",
    "    print('Enter the name of product')\n",
    "    name.append(input())  # ERROR FIXED: Changed 'list.append' to 'name.append'\n",
    "    print('enter quantity')\n",
    "    quantity.append(int(input()))\n",
    "    print('Enter the price')\n",
    "    price.append(int(input()))\n",
    "    sum += quantity[i] * price[i]\n",
    "\n",
    "print(\"Product           Quantity             Price          total Price\")  \n",
    "for i in range(n):\n",
    "    print(\"  \", name[i], \"               \", quantity[i], \"              \", price[i], \"            \", quantity[i] * price[i])\n",
    "print(\"_______________________________________________________________________________\")\n",
    "print(\"Total                                                        \", sum)\n"
   ]
  },
  {
   "cell_type": "markdown",
   "id": "96d00e6f-fae3-4452-a3a4-a74be65f3df7",
   "metadata": {},
   "source": [
    "#### 3. Online Student Attendance Tracker\n",
    "Create a program using loops to record student attendance for a week and count the\n",
    "number of days present for each student.\n"
   ]
  },
  {
   "cell_type": "code",
   "execution_count": null,
   "id": "f2900752-545c-47c4-a08f-084e1be57a47",
   "metadata": {},
   "outputs": [],
   "source": []
  },
  {
   "cell_type": "markdown",
   "id": "b4c5c39f-a59a-496b-8313-9d6cb46143de",
   "metadata": {},
   "source": [
    "#### 4. Online Quiz Scoring System\n",
    "Develop a Python program using a loop to conduct a multiple-choice quiz of 5\n",
    "questions and calculate the total score at the end."
   ]
  },
  {
   "cell_type": "code",
   "execution_count": null,
   "id": "aca0de36-4a77-4c71-bcca-5f98c93d7fd9",
   "metadata": {},
   "outputs": [],
   "source": []
  },
  {
   "cell_type": "markdown",
   "id": "fca2cce2-9c2d-4d91-91b3-ef8bd9c377eb",
   "metadata": {},
   "source": [
    "#### 5. Hotel Room Booking Tracker\n",
    "Write a loop-based Python script to simulate booking of rooms, where each loop\n",
    "iteration accepts customer name and number of nights stayed, and calculates the\n",
    "total bill"
   ]
  },
  {
   "cell_type": "code",
   "execution_count": null,
   "id": "eb0f6890-4798-4cb3-8a41-2f3054b82a59",
   "metadata": {},
   "outputs": [],
   "source": []
  },
  {
   "cell_type": "markdown",
   "id": "602ba4fd-1431-4dea-bc55-f4a603e46603",
   "metadata": {},
   "source": [
    "#### 6. Supermarket Inventory Manager\n",
    "Use loops to enter product names, stock quantity, and price, then display a summary\n",
    "of total items and total inventory value"
   ]
  },
  {
   "cell_type": "code",
   "execution_count": null,
   "id": "1a64bf85-8158-4239-b025-2d7c0c3d5409",
   "metadata": {},
   "outputs": [],
   "source": []
  },
  {
   "cell_type": "markdown",
   "id": "81e43304-2156-4def-acc1-345828992ad4",
   "metadata": {},
   "source": [
    "#### 6. Supermarket Inventory Manager\n",
    "Use loops to enter product names, stock quantity, and price, then display a summary\n",
    "of total items and total inventory value"
   ]
  },
  {
   "cell_type": "code",
   "execution_count": null,
   "id": "19db20be-034f-4abb-9623-eb58a6dc9e24",
   "metadata": {},
   "outputs": [],
   "source": []
  },
  {
   "cell_type": "markdown",
   "id": "defa6408-5b24-4e14-9514-f5d9c182e700",
   "metadata": {},
   "source": [
    "#### 8. Simple Interest Calculation for Customers\n",
    "Write a Python program using loops to calculate simple interest for multiple\n",
    "customers based on their principal, rate, and time."
   ]
  },
  {
   "cell_type": "code",
   "execution_count": 8,
   "id": "3ab22ad4-f3fa-47a3-98e0-dfcb6efe09c4",
   "metadata": {},
   "outputs": [
    {
     "name": "stdout",
     "output_type": "stream",
     "text": [
      "Enter the no. of customers\n"
     ]
    },
    {
     "name": "stdin",
     "output_type": "stream",
     "text": [
      " 3\n",
      "enter the principal:  1000\n",
      "enter the rate:  4.5\n",
      "enter the time:  3\n"
     ]
    },
    {
     "name": "stdout",
     "output_type": "stream",
     "text": [
      "interest=  135.0\n"
     ]
    },
    {
     "name": "stdin",
     "output_type": "stream",
     "text": [
      "enter the principal:  100000\n",
      "enter the rate:  9.3\n",
      "enter the time:  5\n"
     ]
    },
    {
     "name": "stdout",
     "output_type": "stream",
     "text": [
      "interest=  46500.00000000001\n"
     ]
    },
    {
     "name": "stdin",
     "output_type": "stream",
     "text": [
      "enter the principal:  200\n",
      "enter the rate:  2\n",
      "enter the time:  1\n"
     ]
    },
    {
     "name": "stdout",
     "output_type": "stream",
     "text": [
      "interest=  4.0\n"
     ]
    }
   ],
   "source": [
    "print('Enter the no. of customers')\n",
    "n=int(input())\n",
    "for i in range(n):\n",
    "    principal=float(input('enter the principal: '))\n",
    "    rate=float(input('enter the rate: '))\n",
    "    time=int(input('enter the time: '))\n",
    "    print('interest= ', (principal*rate*time)/100)"
   ]
  },
  {
   "cell_type": "markdown",
   "id": "3a9c0f8a-54bf-42ac-b4a2-7f66e177522a",
   "metadata": {},
   "source": [
    "#### 9. Flight Seat Reservation System\n",
    "Design a program using loops where users can book seats on a flight. Track available\n",
    "and booked seats until the flight is full."
   ]
  },
  {
   "cell_type": "code",
   "execution_count": null,
   "id": "1d7acbe7-20eb-4740-af1d-ead541c11c73",
   "metadata": {},
   "outputs": [],
   "source": []
  },
  {
   "cell_type": "markdown",
   "id": "91e6d0f9-7b8b-43b6-973f-5c9464f91156",
   "metadata": {},
   "source": [
    "#### 10. Cafeteria Meal Order Calculator\n",
    "Create a loop-based system where users can select food items from a menu, enter\n",
    "quantity, and the program calculates the total meal cost."
   ]
  },
  {
   "cell_type": "code",
   "execution_count": null,
   "id": "17c7b894-2c22-4617-b786-4196e97ec5ce",
   "metadata": {},
   "outputs": [],
   "source": []
  }
 ],
 "metadata": {
  "kernelspec": {
   "display_name": "Python 3 (ipykernel)",
   "language": "python",
   "name": "python3"
  },
  "language_info": {
   "codemirror_mode": {
    "name": "ipython",
    "version": 3
   },
   "file_extension": ".py",
   "mimetype": "text/x-python",
   "name": "python",
   "nbconvert_exporter": "python",
   "pygments_lexer": "ipython3",
   "version": "3.13.3"
  }
 },
 "nbformat": 4,
 "nbformat_minor": 5
}
