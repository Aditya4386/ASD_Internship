{
 "cells": [
  {
   "cell_type": "markdown",
   "id": "7c3c2b7a-8e7c-4db3-96db-fe6c48a66207",
   "metadata": {},
   "source": [
    "### Total Marks Calculator\n",
    "A teacher wants to calculate the total marks of 5 students. The marks are stored in a list. Write a Python function to calculate and return the total.\n"
   ]
  },
  {
   "cell_type": "code",
   "execution_count": 1,
   "id": "2699f081-7a49-470c-8468-f0164f3c5eca",
   "metadata": {},
   "outputs": [
    {
     "name": "stdout",
     "output_type": "stream",
     "text": [
      "394\n"
     ]
    }
   ],
   "source": [
    "marks=[86,67,98,56,87]\n",
    "print(sum(marks))"
   ]
  },
  {
   "cell_type": "markdown",
   "id": "46649c20-511c-4bba-b918-90ba0f789a30",
   "metadata": {},
   "source": [
    "### Pass or Fail Checker\n",
    "Given a list of student scores, write a function to print \"Pass\" if score is above 40, otherwise \"Fail\", using if-else and loop.\n"
   ]
  },
  {
   "cell_type": "code",
   "execution_count": 7,
   "id": "d1dcfb1e-fe72-4bf5-8ece-b53d6a2a0273",
   "metadata": {},
   "outputs": [
    {
     "name": "stdout",
     "output_type": "stream",
     "text": [
      "pass\n",
      "pass\n",
      "pass\n",
      "pass\n",
      "pass\n"
     ]
    }
   ],
   "source": [
    "def check(marks):\n",
    "    for i in marks:\n",
    "        if i<=40:\n",
    "            print('fail')\n",
    "        else:\n",
    "            print('pass')\n",
    "\n",
    "marks=[86,67,98,56,87]\n",
    "check(marks)"
   ]
  },
  {
   "cell_type": "markdown",
   "id": "38e1980e-9c09-41cc-b3cb-87af6f6322d8",
   "metadata": {},
   "source": [
    "### Tuple to List Converter\n",
    "Take a tuple of fruits and convert it into a list using a loop. Then add a new fruit to the list.\n"
   ]
  },
  {
   "cell_type": "code",
   "execution_count": 9,
   "id": "425a5252-657b-4328-9745-2dab0af9ae24",
   "metadata": {},
   "outputs": [
    {
     "name": "stdout",
     "output_type": "stream",
     "text": [
      "tuple-  ('apple', 'banana')\n",
      "list-  ['apple', 'banana', 'grape']\n"
     ]
    }
   ],
   "source": [
    "tuple = ('apple','banana')\n",
    "\n",
    "list=[]\n",
    "for i in tuple:\n",
    "    list.append(i)\n",
    "\n",
    "list.append('grape')\n",
    "\n",
    "print(\"tuple- \",tuple)\n",
    "print(\"list- \",list)"
   ]
  },
  {
   "cell_type": "markdown",
   "id": "9ff32df8-03b9-4ad7-99a9-f624986d1bfe",
   "metadata": {},
   "source": [
    "### Find the Maximum Number\n",
    "Write a function to find the maximum number from a list without using the max() function."
   ]
  },
  {
   "cell_type": "code",
   "execution_count": 11,
   "id": "9df936a6-3100-4a77-8f57-62d9856f710b",
   "metadata": {},
   "outputs": [
    {
     "name": "stdout",
     "output_type": "stream",
     "text": [
      "98\n"
     ]
    }
   ],
   "source": [
    "nums=[86,67,98,56,87]\n",
    "maxi=-99999\n",
    "for num in nums:\n",
    "    if maxi<num:\n",
    "        maxi=num\n",
    "\n",
    "print(maxi)"
   ]
  },
  {
   "cell_type": "markdown",
   "id": "9f479eb2-ea87-407f-a5f6-b7243a9b3bd8",
   "metadata": {},
   "source": [
    "### Count Even and Odd Numbers\n",
    "Create a function that takes a list of integers and counts how many are even and how many are odd."
   ]
  },
  {
   "cell_type": "code",
   "execution_count": 13,
   "id": "2664f12d-4de5-49eb-88f7-6fc9786f5b3a",
   "metadata": {},
   "outputs": [
    {
     "name": "stdout",
     "output_type": "stream",
     "text": [
      "even 3\n",
      "odd 2\n"
     ]
    }
   ],
   "source": [
    "nums=[86,67,98,56,87]\n",
    "even=0\n",
    "odd=0\n",
    "for num in nums:\n",
    "    if num%2==0:\n",
    "        even+=1\n",
    "    else:\n",
    "        odd+=1\n",
    "\n",
    "print('even',even)\n",
    "print('odd',odd)\n"
   ]
  },
  {
   "cell_type": "markdown",
   "id": "59c4b0e0-5df9-43ac-968e-f0a2a83ec337",
   "metadata": {},
   "source": [
    "### Duplicate Remover from List\n",
    "A student accidentally added the same number multiple times. Write a function that removes duplicates from the list."
   ]
  },
  {
   "cell_type": "code",
   "execution_count": 22,
   "id": "bd672af4-35b7-4115-84db-f95298117caa",
   "metadata": {},
   "outputs": [
    {
     "name": "stdout",
     "output_type": "stream",
     "text": [
      "[1, 2, 3, 4, 5, 6, 7]\n"
     ]
    }
   ],
   "source": [
    "import builtins\n",
    "list1=[1,1,2,2,3,3,3,3,4,5,6,7,7,7]\n",
    "list2=builtins.list(set(list1))\n",
    "\n",
    "print(list2)"
   ]
  },
  {
   "cell_type": "markdown",
   "id": "93ba4940-fa08-498c-984d-d03b1a296e6e",
   "metadata": {},
   "source": [
    "### Sort Tuple of Marks\n",
    "Given a tuple of marks, write a function to convert it to a list, sort it, and then convert it back to a tuple."
   ]
  },
  {
   "cell_type": "code",
   "execution_count": null,
   "id": "33f53830-0c45-42c4-9398-35c3efa403c3",
   "metadata": {},
   "outputs": [],
   "source": []
  },
  {
   "cell_type": "markdown",
   "id": "c916c105-1b75-42c1-9afb-8337ea0a50ef",
   "metadata": {},
   "source": [
    "### Grade Distributor\n",
    "Given a list of marks, write a program that assigns grades:\n",
    "\n",
    "A: 90+, B: 70–89, C: 50–69, F: below 50\n"
   ]
  },
  {
   "cell_type": "code",
   "execution_count": null,
   "id": "1688634c-46f0-4dd0-9876-df2b8bc0c3ac",
   "metadata": {},
   "outputs": [],
   "source": []
  },
  {
   "cell_type": "markdown",
   "id": "e289f30a-1d59-4dca-9bc8-52956baf7f89",
   "metadata": {},
   "source": [
    "### Reverse List Without Built-in Function\n",
    "Reverse a list manually using a loop."
   ]
  },
  {
   "cell_type": "code",
   "execution_count": null,
   "id": "26623b8c-9ee5-47ca-89f3-60fa82b62ead",
   "metadata": {},
   "outputs": [],
   "source": []
  },
  {
   "cell_type": "markdown",
   "id": "88940a84-afb2-4a7a-82b5-d1c759003e02",
   "metadata": {},
   "source": [
    "### Sum of Nested List\n",
    "Write a function to sum all integers inside a nested list like: [[1, 2], [3, 4], [5]]."
   ]
  },
  {
   "cell_type": "code",
   "execution_count": null,
   "id": "314d0572-0f19-4e81-a47a-5cf8df63450a",
   "metadata": {},
   "outputs": [],
   "source": []
  },
  {
   "cell_type": "markdown",
   "id": "64358950-db4a-4c98-9ed6-4647be8a2aa1",
   "metadata": {},
   "source": [
    "### Tuple of Top 3 Scores\n",
    "Write a function that takes a list of scores and returns a tuple of top 3 highest scores using loop logic only."
   ]
  },
  {
   "cell_type": "code",
   "execution_count": null,
   "id": "72eefc30-3f55-4ce4-b588-c86fdde96087",
   "metadata": {},
   "outputs": [],
   "source": []
  },
  {
   "cell_type": "markdown",
   "id": "4c79e599-d804-4a04-81b3-e8688fee2181",
   "metadata": {},
   "source": [
    "### List Rotation Logic\n",
    "Rotate a list to the left by k positions using loop (e.g., [1,2,3,4,5] rotated by 2 → [3,4,5,1,2])."
   ]
  },
  {
   "cell_type": "code",
   "execution_count": null,
   "id": "e7cf34ab-e0a9-4e2b-bf89-6a434173890a",
   "metadata": {},
   "outputs": [],
   "source": []
  },
  {
   "cell_type": "markdown",
   "id": "d9bf725c-85a2-469b-b7df-6c7a42a723e5",
   "metadata": {},
   "source": [
    "### Marks Statistics Function\n",
    "Given a list of marks, write a function that returns a tuple: (max_marks, min_marks, average_marks)."
   ]
  },
  {
   "cell_type": "code",
   "execution_count": null,
   "id": "d44c0969-b7d1-4fba-8643-7e5f35c723e2",
   "metadata": {},
   "outputs": [],
   "source": []
  },
  {
   "cell_type": "markdown",
   "id": "a3842122-7e66-4041-a454-ba09ea5c584d",
   "metadata": {},
   "source": [
    "### Search Word and Its Count\n",
    "Given a paragraph split into a list of words, search for a particular word and return how many times it appeared."
   ]
  },
  {
   "cell_type": "code",
   "execution_count": null,
   "id": "09389f44-29cc-4419-a203-daa12d7c6c06",
   "metadata": {},
   "outputs": [],
   "source": []
  },
  {
   "cell_type": "markdown",
   "id": "dd2a0271-5079-4faf-a0d0-409bfd453b31",
   "metadata": {},
   "source": [
    "\n",
    "### Zip Two Lists into Tuple List Without zip()\n",
    "Take two lists of equal length (e.g., names and marks) and manually combine them into a list of tuples: [(name, mark)]."
   ]
  },
  {
   "cell_type": "code",
   "execution_count": null,
   "id": "76e75487-c4cc-4a90-92f2-d8c6a9717797",
   "metadata": {},
   "outputs": [],
   "source": []
  }
 ],
 "metadata": {
  "kernelspec": {
   "display_name": "Python 3 (ipykernel)",
   "language": "python",
   "name": "python3"
  },
  "language_info": {
   "codemirror_mode": {
    "name": "ipython",
    "version": 3
   },
   "file_extension": ".py",
   "mimetype": "text/x-python",
   "name": "python",
   "nbconvert_exporter": "python",
   "pygments_lexer": "ipython3",
   "version": "3.13.3"
  }
 },
 "nbformat": 4,
 "nbformat_minor": 5
}
