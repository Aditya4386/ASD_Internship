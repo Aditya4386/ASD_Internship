{
 "cells": [
  {
   "cell_type": "markdown",
   "id": "0f96448e-0bcb-4565-a33f-34d79aa67101",
   "metadata": {},
   "source": [
    "## Easy Recursion Problems"
   ]
  },
  {
   "cell_type": "markdown",
   "id": "bebd8ab6-91f8-47be-9ec7-72aaefa03cef",
   "metadata": {},
   "source": [
    "###### "
   ]
  },
  {
   "cell_type": "markdown",
   "id": "fef898b8-234e-4459-afcd-8688025aa6ad",
   "metadata": {},
   "source": [
    "#### 16. Write a recursive function to calculate the factorial of a number."
   ]
  },
  {
   "cell_type": "code",
   "execution_count": 33,
   "id": "aac928d5-86ca-41fd-890f-525e76d2150a",
   "metadata": {},
   "outputs": [
    {
     "name": "stdout",
     "output_type": "stream",
     "text": [
      "120\n"
     ]
    }
   ],
   "source": [
    "def fact(n):\n",
    "    if n<1:\n",
    "        return 1\n",
    "    else:\n",
    "        return n*fact(n-1)\n",
    "\n",
    "res=fact(5)\n",
    "print(res)"
   ]
  },
  {
   "cell_type": "markdown",
   "id": "04a4a199-3863-4e1b-8941-229d7302ae21",
   "metadata": {},
   "source": [
    "#### 18. Define a recursive function to print numbers from n to 1."
   ]
  },
  {
   "cell_type": "code",
   "execution_count": 34,
   "id": "12d344a3-359c-46cf-88a7-52e51ccb1751",
   "metadata": {},
   "outputs": [
    {
     "name": "stdout",
     "output_type": "stream",
     "text": [
      "5  \n",
      "4  \n",
      "3  \n",
      "2  \n",
      "1  \n"
     ]
    }
   ],
   "source": [
    "def num(n):\n",
    "    if n<1:\n",
    "        return\n",
    "    else:\n",
    "        print(n,\" \")\n",
    "        return num(n-1)\n",
    "\n",
    "num(5)\n"
   ]
  },
  {
   "cell_type": "markdown",
   "id": "99d96d14-530c-4599-8621-f3509c7e01c2",
   "metadata": {},
   "source": [
    "#### 19. Write a recursive function to find the nth Fibonacci number."
   ]
  },
  {
   "cell_type": "code",
   "execution_count": 35,
   "id": "943f06a9-2e70-4c06-9959-fa0fcc5452a9",
   "metadata": {},
   "outputs": [
    {
     "name": "stdout",
     "output_type": "stream",
     "text": [
      "1  \n",
      "1  \n",
      "2  \n",
      "3  \n",
      "5  \n",
      "8  \n",
      "13  \n",
      "21  \n",
      "34  \n",
      "55  \n"
     ]
    }
   ],
   "source": [
    "def fib(n):\n",
    "    if n==1 or n==0:\n",
    "        return 1\n",
    "    else:\n",
    "        return fib(n-1)+fib(n-2)\n",
    "\n",
    "for i in range(10):\n",
    "    print(fib(i),\" \")"
   ]
  },
  {
   "cell_type": "markdown",
   "id": "7376ae7e-b768-41d4-8ff8-f3089b6b0aad",
   "metadata": {},
   "source": [
    "#### 20. Create a recursive function to calculate the power of a number."
   ]
  },
  {
   "cell_type": "code",
   "execution_count": 36,
   "id": "e50377c3-1350-4c14-b446-49cbe6ea23d3",
   "metadata": {},
   "outputs": [
    {
     "name": "stdout",
     "output_type": "stream",
     "text": [
      "8\n"
     ]
    }
   ],
   "source": [
    "def pow(n,power):\n",
    "    if power<1:\n",
    "        return 1\n",
    "    else:\n",
    "        return n*pow(n,power-1)\n",
    "res=pow(2,3)\n",
    "print(res)"
   ]
  },
  {
   "cell_type": "markdown",
   "id": "1e73189a-ca57-4e7b-88f0-2763bfe1e49b",
   "metadata": {},
   "source": [
    "#### 21. Write a recursive function to find the GCD of two numbers."
   ]
  },
  {
   "cell_type": "code",
   "execution_count": 37,
   "id": "d575842b-dbad-4c18-9a2e-74ba0e92805b",
   "metadata": {},
   "outputs": [
    {
     "name": "stdout",
     "output_type": "stream",
     "text": [
      "2\n"
     ]
    }
   ],
   "source": [
    "def gcd(num1,num2):\n",
    "    if num2==0:\n",
    "        return num1\n",
    "    else:\n",
    "        return gcd(num2,num1%num2)\n",
    "\n",
    "print(gcd(16,26))"
   ]
  },
  {
   "cell_type": "markdown",
   "id": "531c7916-5024-49e9-a21e-ca5c9bef8003",
   "metadata": {},
   "source": [
    "#### 22. Recursive function to print sum of digits of a number."
   ]
  },
  {
   "cell_type": "code",
   "execution_count": 38,
   "id": "d0a0f802-538b-439e-b953-93d1b2cbec65",
   "metadata": {},
   "outputs": [
    {
     "name": "stdout",
     "output_type": "stream",
     "text": [
      "8\n"
     ]
    }
   ],
   "source": [
    "def sum(num1):\n",
    "    if num1<1:\n",
    "        return 0\n",
    "    else:\n",
    "        return (num1%10)+sum(num1//10)\n",
    "\n",
    "print(sum(26))"
   ]
  },
  {
   "cell_type": "markdown",
   "id": "c1593972-26b4-43e9-b70f-7bf1ee9e326d",
   "metadata": {},
   "source": [
    "#### 23. Create a recursive function to find the smallest element in a list."
   ]
  },
  {
   "cell_type": "code",
   "execution_count": 39,
   "id": "79221f0c-e286-48b5-a4f1-06a6c535bc70",
   "metadata": {},
   "outputs": [
    {
     "name": "stdout",
     "output_type": "stream",
     "text": [
      "2\n"
     ]
    }
   ],
   "source": [
    "def mini(numbers,n):\n",
    "    if n==0:\n",
    "        return numbers[0]\n",
    "    else:\n",
    "        return min(numbers[n],mini(numbers,n-1))\n",
    "\n",
    "\n",
    "\n",
    "numbers=[7,64,3,7,2,2,8] \n",
    "print(mini(numbers,6))"
   ]
  },
  {
   "cell_type": "markdown",
   "id": "d027a417-b14c-4c58-ac68-302ca92704e4",
   "metadata": {},
   "source": [
    "#### 24. Recursive function to count digits in a number."
   ]
  },
  {
   "cell_type": "code",
   "execution_count": 40,
   "id": "d248f866-527c-4681-876f-dcf38ee51791",
   "metadata": {},
   "outputs": [
    {
     "name": "stdout",
     "output_type": "stream",
     "text": [
      "5\n"
     ]
    }
   ],
   "source": [
    "def count(n):\n",
    "    if n==0:\n",
    "        return 0\n",
    "    else:\n",
    "        return 1+count(n//10)\n",
    "\n",
    "\n",
    "print(count(12345))"
   ]
  },
  {
   "cell_type": "markdown",
   "id": "94a12fae-82c0-4dd4-8d9e-a850a20ea8e6",
   "metadata": {},
   "source": [
    "####  25. Write a recursive function to compute n! / (n - r)!"
   ]
  },
  {
   "cell_type": "code",
   "execution_count": 41,
   "id": "828511b7-0e4d-4e4e-bb47-a6c87061546e",
   "metadata": {},
   "outputs": [
    {
     "name": "stdout",
     "output_type": "stream",
     "text": [
      "20\n"
     ]
    }
   ],
   "source": [
    "def cal(n, r):\n",
    "    return fact(n)//fact(n-r)\n",
    "\n",
    "print(cal(5,2)) "
   ]
  },
  {
   "cell_type": "markdown",
   "id": "b96a141d-2057-43fe-a3a9-4094c6cc84a3",
   "metadata": {},
   "source": [
    "#### 26. Recursive function to check if a list is sorted."
   ]
  },
  {
   "cell_type": "code",
   "execution_count": null,
   "id": "6e1abc91-a22b-4187-aa6f-4851d88787aa",
   "metadata": {},
   "outputs": [],
   "source": []
  },
  {
   "cell_type": "markdown",
   "id": "434b9ecc-f538-4d49-a207-d607aebc082c",
   "metadata": {},
   "source": [
    "#### 27. Write a recursive function to compute base^exp using multiplication."
   ]
  },
  {
   "cell_type": "code",
   "execution_count": 42,
   "id": "8101f466-d3ef-4935-b3c0-ec0137789edb",
   "metadata": {},
   "outputs": [
    {
     "name": "stdout",
     "output_type": "stream",
     "text": [
      "8\n"
     ]
    }
   ],
   "source": [
    "def pow(b,e):\n",
    "    if e==0:\n",
    "        return 1\n",
    "    else:\n",
    "        return b*pow(b,e-1)\n",
    "\n",
    "print(pow(2,3))"
   ]
  },
  {
   "cell_type": "markdown",
   "id": "88ded7dc-168c-4b34-b147-9fc557a0ed19",
   "metadata": {},
   "source": [
    "#### 29. Recursive function to calculate the sum of a geometric progression."
   ]
  },
  {
   "cell_type": "code",
   "execution_count": null,
   "id": "c83f8527-a0ff-4283-9772-886dc8b95152",
   "metadata": {},
   "outputs": [],
   "source": []
  },
  {
   "cell_type": "markdown",
   "id": "09d6eebb-619f-4911-98dd-bdad7891ca27",
   "metadata": {},
   "source": [
    "#### 30. Recursive function to find LCM using GCD logic"
   ]
  },
  {
   "cell_type": "code",
   "execution_count": 43,
   "id": "d89b62ac-6fd7-470f-aecf-1a15fcc7e054",
   "metadata": {},
   "outputs": [
    {
     "name": "stdout",
     "output_type": "stream",
     "text": [
      "36\n"
     ]
    }
   ],
   "source": [
    "def lcm(num1,num2):\n",
    "    return (num1*num2)//gcd(num1,num2)\n",
    "\n",
    "print(lcm(12,18))"
   ]
  }
 ],
 "metadata": {
  "kernelspec": {
   "display_name": "Python 3 (ipykernel)",
   "language": "python",
   "name": "python3"
  },
  "language_info": {
   "codemirror_mode": {
    "name": "ipython",
    "version": 3
   },
   "file_extension": ".py",
   "mimetype": "text/x-python",
   "name": "python",
   "nbconvert_exporter": "python",
   "pygments_lexer": "ipython3",
   "version": "3.13.3"
  }
 },
 "nbformat": 4,
 "nbformat_minor": 5
}
