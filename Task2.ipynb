{
 "cells": [
  {
   "cell_type": "markdown",
   "id": "88abc094-c920-416e-9628-2a971b951f92",
   "metadata": {},
   "source": [
    "# Top 10 Basic Python Case Study Problems\n",
    "## (if, else, nested if-else, pass)"
   ]
  },
  {
   "cell_type": "markdown",
   "id": "ade4fb4e-bac3-4372-a733-6e833128f54f",
   "metadata": {},
   "source": [
    "######"
   ]
  },
  {
   "cell_type": "markdown",
   "id": "04c19c71-349a-4d14-a65f-ec472c52942b",
   "metadata": {},
   "source": [
    "#### 1. Student Pass Check\n",
    " Case Study:\n",
    "A university wants to automate result checking. Students pass if their score is 40 or more.\n",
    " Question:\n",
    "Write a program to check if a student has passed or failed based on marks.\n",
    " Code:"
   ]
  },
  {
   "cell_type": "code",
   "execution_count": 1,
   "id": "ac561eca-2881-4867-9f66-c319b8a0732f",
   "metadata": {},
   "outputs": [
    {
     "name": "stdout",
     "output_type": "stream",
     "text": [
      "enter the marks\n"
     ]
    },
    {
     "name": "stdin",
     "output_type": "stream",
     "text": [
      " 94\n"
     ]
    },
    {
     "name": "stdout",
     "output_type": "stream",
     "text": [
      "pass\n"
     ]
    }
   ],
   "source": [
    "print('enter the marks')\n",
    "marks=int(input())\n",
    "if marks>=40:\n",
    "    print('pass')\n",
    "else:\n",
    "    print('fail')"
   ]
  },
  {
   "cell_type": "markdown",
   "id": "dc88ede2-ee9e-4a99-81f8-e8998037b45c",
   "metadata": {},
   "source": [
    "#### 2. Age Verification for Driving License\n",
    "Case Study:\n",
    "A license issuing office checks if a person is eligible to apply for a license. Minimum age is\n",
    "18.\n",
    " Question:\n",
    "Write a program to check if a person is eligible to apply for a driving license.\n",
    " Code:\n"
   ]
  },
  {
   "cell_type": "code",
   "execution_count": 3,
   "id": "3733cd11-6036-49e9-9425-53fc19218375",
   "metadata": {},
   "outputs": [
    {
     "name": "stdout",
     "output_type": "stream",
     "text": [
      "neter the age\n"
     ]
    },
    {
     "name": "stdin",
     "output_type": "stream",
     "text": [
      " 31\n"
     ]
    },
    {
     "name": "stdout",
     "output_type": "stream",
     "text": [
      "eligible to apply for a driving license.\n"
     ]
    }
   ],
   "source": [
    "print('neter the age')\n",
    "age=int(input())\n",
    "if age>=18:\n",
    "    print('eligible to apply for a driving license.')\n",
    "else:\n",
    "    print('not eligible to apply for a driving license.')"
   ]
  },
  {
   "cell_type": "markdown",
   "id": "0d4b66fa-1e74-4187-b6c2-97558e06eb38",
   "metadata": {},
   "source": [
    "#### 3. Even or Odd Number\n",
    " Case Study:\n",
    "A math tutor app checks if a number is even or odd for practice.\n",
    " Question:\n",
    "Write a program to determine if a number is even or odd.\n",
    " Code:"
   ]
  },
  {
   "cell_type": "code",
   "execution_count": 4,
   "id": "68c131bc-cf34-4b0d-a093-421b44f77ea8",
   "metadata": {},
   "outputs": [
    {
     "name": "stdout",
     "output_type": "stream",
     "text": [
      "enter the number\n"
     ]
    },
    {
     "name": "stdin",
     "output_type": "stream",
     "text": [
      " 87\n"
     ]
    },
    {
     "name": "stdout",
     "output_type": "stream",
     "text": [
      "odd\n"
     ]
    }
   ],
   "source": [
    "print('enter the number')\n",
    "num=int(input())\n",
    "if num%2==0:\n",
    "    print('even')\n",
    "else:\n",
    "    print('odd')"
   ]
  },
  {
   "cell_type": "markdown",
   "id": "bc8d07cd-7049-4a40-a056-b75ace8be473",
   "metadata": {},
   "source": [
    "#### 4. Nested If - Grade Assignment\n",
    " Case Study:\n",
    "A school assigns grades based on marks.\n",
    " Question:\n",
    "Write a program that assigns grades:\n",
    "- Above 90: Grade A\n",
    "- 70–90: Grade B\n",
    "- 40–69: Grade C\n",
    "- Below 40: Fail"
   ]
  },
  {
   "cell_type": "code",
   "execution_count": 5,
   "id": "b4c326bf-2d32-4802-abf8-83e8d80e7f5b",
   "metadata": {},
   "outputs": [
    {
     "name": "stdout",
     "output_type": "stream",
     "text": [
      "enter the grades\n"
     ]
    },
    {
     "name": "stdin",
     "output_type": "stream",
     "text": [
      " 94\n"
     ]
    },
    {
     "name": "stdout",
     "output_type": "stream",
     "text": [
      "Grade A\n"
     ]
    }
   ],
   "source": [
    "print('enter the grades')\n",
    "grades=int(input())\n",
    "if grades>90:\n",
    "    print('Grade A')\n",
    "elif grades>70 and grades<=90:\n",
    "    print('grade B')\n",
    "elif grades>=40 and grades<70:\n",
    "    print('grade c')\n",
    "else:\n",
    "    print('fail')"
   ]
  },
  {
   "cell_type": "markdown",
   "id": "fe0ddbdf-713e-4f72-abb3-5ad9de1e88ed",
   "metadata": {},
   "source": [
    "#### 5. Login Authentication System\n",
    " Case Study:\n",
    "A basic login system checks for correct username and password.\n",
    " Question:\n",
    "Write a program that checks if username is \"admin\" and password is \"1234\". Print \"Login\n",
    "Successful\" if correct, otherwise print \"Access Denied\".\n",
    " Code:"
   ]
  },
  {
   "cell_type": "code",
   "execution_count": 6,
   "id": "39660243-95f6-4f0e-af58-409803d49160",
   "metadata": {},
   "outputs": [
    {
     "name": "stdout",
     "output_type": "stream",
     "text": [
      "username: \n"
     ]
    },
    {
     "name": "stdin",
     "output_type": "stream",
     "text": [
      " admin\n"
     ]
    },
    {
     "name": "stdout",
     "output_type": "stream",
     "text": [
      "password\n"
     ]
    },
    {
     "name": "stdin",
     "output_type": "stream",
     "text": [
      " 1234\n"
     ]
    },
    {
     "name": "stdout",
     "output_type": "stream",
     "text": [
      "login successfully\n"
     ]
    }
   ],
   "source": [
    "print('username: ')\n",
    "user=input()\n",
    "print('password')\n",
    "pas=int(input())\n",
    "if user=='admin' and pas==1234:\n",
    "    print('login successfully')\n",
    "else:\n",
    "    print('login failed')"
   ]
  },
  {
   "cell_type": "markdown",
   "id": "35b97a90-ed96-4f84-8592-bdc90910b59c",
   "metadata": {},
   "source": [
    "#### 6. Pass Statement Use\n",
    " Case Study:\n",
    "A new feature is under development and should be skipped for now.\n",
    " Question:\n",
    "Write a program where if the input number is negative, do nothing using `pass`.\n",
    " Code:\n"
   ]
  },
  {
   "cell_type": "code",
   "execution_count": 8,
   "id": "de79795d-75a6-4b80-93de-099a5145bd6f",
   "metadata": {},
   "outputs": [
    {
     "name": "stdin",
     "output_type": "stream",
     "text": [
      "Enter a number: -54\n"
     ]
    }
   ],
   "source": [
    "num=int(input(\"Enter a number:\"))\n",
    "if num<0:\n",
    "    pass \n",
    "else:\n",
    "    print(\"You entered:\",num)"
   ]
  },
  {
   "cell_type": "markdown",
   "id": "080c7abd-88c8-48aa-8f89-d052098b42be",
   "metadata": {},
   "source": [
    "#### 7. Largest of Two Numbers\n",
    " Case Study:\n",
    "A calculator app finds the largest of two numbers.\n",
    " Question:\n",
    "Write a program to find the largest of two numbers.\n",
    " Code:"
   ]
  },
  {
   "cell_type": "code",
   "execution_count": 10,
   "id": "2777a859-2a00-4603-ba6a-4cefd680d7bf",
   "metadata": {},
   "outputs": [
    {
     "name": "stdin",
     "output_type": "stream",
     "text": [
      "first number:  7\n",
      "second number:  9\n"
     ]
    },
    {
     "name": "stdout",
     "output_type": "stream",
     "text": [
      "The largest number is: 9.0\n"
     ]
    }
   ],
   "source": [
    "num1 = float(input(\"first number: \"))\n",
    "num2 = float(input(\"second number: \"))\n",
    "\n",
    "if num1>num2:\n",
    "    print(\"The largest number is:\",num1)\n",
    "elif num2>num1:\n",
    "    print(\"The largest number is:\",num2)\n",
    "else:\n",
    "    print(\"Both numbers are equal\")"
   ]
  },
  {
   "cell_type": "markdown",
   "id": "2e10b73d-f8c9-4c03-b552-b0d80ad2480b",
   "metadata": {},
   "source": [
    "#### 8. Restaurant Menu Item Availability\n",
    " Case Study:\n",
    "A restaurant has only three items: pizza, burger, and fries.\n",
    " Question:\n",
    "Write a program to print if a food item is available or not.\n",
    " Code:\n"
   ]
  },
  {
   "cell_type": "code",
   "execution_count": 11,
   "id": "c195163b-150f-443a-93f7-a4898ca0094e",
   "metadata": {},
   "outputs": [
    {
     "name": "stdout",
     "output_type": "stream",
     "text": [
      "item is not available\n"
     ]
    }
   ],
   "source": [
    "Menu=['pizza','burger','fries']\n",
    "\n",
    "if 'sandwitch' in Menu:\n",
    "    print(\"item is available\")\n",
    "else:\n",
    "    print(\"item is not available\")\n",
    "    "
   ]
  },
  {
   "cell_type": "markdown",
   "id": "92013409-0df2-434d-a4e4-7bdda225e7e1",
   "metadata": {},
   "source": [
    "#### 9. Voter Eligibility with ID Check (Nested If)\n",
    " Case Study:\n",
    "A voter must be 18+ and must have a valid ID.\n",
    " Question:\n",
    "Write a program to check voter eligibility using nested `if`.\n",
    " Code:"
   ]
  },
  {
   "cell_type": "code",
   "execution_count": 14,
   "id": "a8dff2fc-5a2d-4aa1-b797-ed07cb5da428",
   "metadata": {},
   "outputs": [
    {
     "name": "stdout",
     "output_type": "stream",
     "text": [
      "person is elligible\n"
     ]
    }
   ],
   "source": [
    "id=1234\n",
    "age=21\n",
    "valid_id=1234\n",
    "if age>=18:\n",
    "    if id==valid_id:\n",
    "        print(\"person is elligible\")\n",
    "    else:\n",
    "        print(\"person does not hav valid id\")\n",
    "else:\n",
    "    print('person is not elligible 18-')"
   ]
  },
  {
   "cell_type": "markdown",
   "id": "a9efc389-62a2-4e36-9ca4-a4332d889a8a",
   "metadata": {},
   "source": [
    "#### 10. Temperature Check - Weather Alert\n",
    " Case Study:\n",
    "A weather station sends alerts based on temperature.\n",
    " Question:\n",
    "Write a program that prints:\n",
    "- \"Cold\" if temperature < 15\n",
    "- \"Warm\" if 15 ≤ temperature < 30\n",
    "- \"Hot\" if ≥ 30\n",
    " Code:\n"
   ]
  },
  {
   "cell_type": "code",
   "execution_count": 15,
   "id": "4852d0e4-1eb9-4aba-a12f-a8a8ffdaa942",
   "metadata": {},
   "outputs": [
    {
     "name": "stdout",
     "output_type": "stream",
     "text": [
      "Hot\n"
     ]
    }
   ],
   "source": [
    "temperature=35\n",
    "if temperature<15:\n",
    "    print(\"Cold\")\n",
    "elif 15<=temperature<30:\n",
    "    print('Warm')\n",
    "else:\n",
    "    print('Hot')"
   ]
  }
 ],
 "metadata": {
  "kernelspec": {
   "display_name": "Python 3 (ipykernel)",
   "language": "python",
   "name": "python3"
  },
  "language_info": {
   "codemirror_mode": {
    "name": "ipython",
    "version": 3
   },
   "file_extension": ".py",
   "mimetype": "text/x-python",
   "name": "python",
   "nbconvert_exporter": "python",
   "pygments_lexer": "ipython3",
   "version": "3.13.3"
  }
 },
 "nbformat": 4,
 "nbformat_minor": 5
}
